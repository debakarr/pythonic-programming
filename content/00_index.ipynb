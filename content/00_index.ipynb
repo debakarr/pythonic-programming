{
 "cells": [
  {
   "cell_type": "markdown",
   "id": "327f4ff8-3fbb-4f6b-8981-4333f35e1e27",
   "metadata": {},
   "source": [
    "# Course Content"
   ]
  },
  {
   "cell_type": "markdown",
   "id": "58418ad0-1d12-4352-b05d-e40f373b1742",
   "metadata": {
    "collapsed": true,
    "jupyter": {
     "outputs_hidden": true
    },
    "tags": []
   },
   "source": [
    "- [Pythonic Thinking and PEP8](./01_pythonic_thinking_and_pep8.ipynb)\n",
    "- [String Formatting](./02_string_formatting_and_docstrings.ipynb)\n",
    "- [Truth Value Testing](./03_truth_value_testing.ipynb)\n",
    "- [Comprehensions and Pythonic Loops](./04_comprehensions_and_pythonic_loops.ipynb)\n",
    "- [Generators and Lazy Evaluation](./05_generators_and_lazy_evaluation.ipynb)\n",
    "- [DRY and Code Reusability](./06_DRY_and_code_reusability.ipynb)\n",
    "- [Lambda Functions and Functional Programming](./07_lambda_functions_and_functional_programming.ipynb)\n",
    "- [Duck Typing, Goose Typing, Static Typing and Static duck typing](./08_duck_typing_and_goose_typing.ipynb)\n",
    "- [Decorators for Method Enhancement](./09_decorators_for_method_enhancement.ipynb)\n",
    "- [Resource Management with Context Managers](./10_resource_management_with_context_managers.ipynb)\n",
    "- [Linters, Formatters, and Code Quality]()\n",
    "- [Identifying Non-Pythonic Code]()"
   ]
  }
 ],
 "metadata": {
  "kernelspec": {
   "display_name": "Python 3 (ipykernel)",
   "language": "python",
   "name": "python3"
  },
  "language_info": {
   "codemirror_mode": {
    "name": "ipython",
    "version": 3
   },
   "file_extension": ".py",
   "mimetype": "text/x-python",
   "name": "python",
   "nbconvert_exporter": "python",
   "pygments_lexer": "ipython3",
   "version": "3.8.10"
  }
 },
 "nbformat": 4,
 "nbformat_minor": 5
}
