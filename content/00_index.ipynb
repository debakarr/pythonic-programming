{
 "cells": [
  {
   "cell_type": "markdown",
   "id": "327f4ff8-3fbb-4f6b-8981-4333f35e1e27",
   "metadata": {},
   "source": [
    "# Course Content"
   ]
  },
  {
   "cell_type": "markdown",
   "id": "58418ad0-1d12-4352-b05d-e40f373b1742",
   "metadata": {
    "jupyter": {
     "outputs_hidden": true
    },
    "tags": []
   },
   "source": [
    "- [Pythonic Thinking and PEP8](./01_pythonic_thinking_and_pep8.ipynb)\n",
    "- [String Formatting and Docstrings](./02_string_formatting_and_docstrings.ipynb)\n",
    "- [Truth Value Testing](./03_truth_value_testing.ipynb)\n",
    "- [Comprehensions and Pythonic Loops](./04_comprehensions_and_pythonic_loops.ipynb)\n",
    "- [Generators and Lazy Evaluation]()\n",
    "- [DRY and Code Reusability]()\n",
    "- [Lambda Functions and Functional Programming]()\n",
    "- [Duck Typing and Goose Typing]()\n",
    "- [Decorators for Function Enhancement]()\n",
    "- [Resource Management with Context Managers]()\n",
    "- [Linters, Formatters, and Code Quality]()\n",
    "- [Identifying Non-Pythonic Code]()"
   ]
  }
 ],
 "metadata": {
  "kernelspec": {
   "display_name": "Python 3 (ipykernel)",
   "language": "python",
   "name": "python3"
  },
  "language_info": {
   "codemirror_mode": {
    "name": "ipython",
    "version": 3
   },
   "file_extension": ".py",
   "mimetype": "text/x-python",
   "name": "python",
   "nbconvert_exporter": "python",
   "pygments_lexer": "ipython3",
   "version": "3.8.10"
  }
 },
 "nbformat": 4,
 "nbformat_minor": 5
}
