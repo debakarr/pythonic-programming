{
 "cells": [
  {
   "cell_type": "markdown",
   "id": "2950d71d-480d-4a54-a59d-8ec85372505f",
   "metadata": {
    "slideshow": {
     "slide_type": "slide"
    },
    "tags": []
   },
   "source": [
    "# Advance Python - Pythonic Programming"
   ]
  },
  {
   "cell_type": "markdown",
   "id": "72ad52dc-9db7-429c-a846-bf25df03cb9f",
   "metadata": {
    "slideshow": {
     "slide_type": "subslide"
    },
    "tags": []
   },
   "source": [
    "[![lite-badge](https://jupyterlite.rtfd.io/en/latest/_static/badge.svg)](https://github.com/debakarr/pythonic-programming)\n",
    "\n",
    "[![Binder](https://mybinder.org/badge_logo.svg)](https://mybinder.org/v2/gh/debakarr/pythonic-programming/HEAD)\n",
    "\n",
    "[![Colab](https://colab.research.google.com/assets/colab-badge.svg)](https://colab.research.google.com/github/debakarr/pythonic-programming)\n",
    "\n",
    "## ✨ Try it in your browser ✨\n",
    "\n",
    "➡️ **https://debakarr.github.io/pythonic-programming**\n",
    "\n",
    "![](./static/use_jupyterlite.gif)\n",
    "\n",
    "---"
   ]
  },
  {
   "cell_type": "markdown",
   "id": "90ed5e18-54ce-40ff-906f-6fe2b656a44b",
   "metadata": {
    "slideshow": {
     "slide_type": "subslide"
    },
    "tags": []
   },
   "source": [
    "## Try from local environment\n",
    "\n",
    "1. Make sure you have Python installed. Follow the guide in the official Python documentation on how to do it for different operating systems: [Windows](https://docs.python.org/3/using/windows.html#installation-steps), [Mac](https://docs.python.org/3/using/mac.html#getting-and-installing-macpython), or [Unix](https://docs.python.org/3/using/unix.html#getting-and-installing-the-latest-version-of-python) systems. \n",
    "2. Considering you have Git installed. Try cloning this repository: `git clone https://github.com/debakarr/pythonic-programming.git`\n",
    "3. I would recommend creating a `virtual environment` to install the dependencies: \n",
    "    - In Windows: `py -3.8 -m venv .venv`\n",
    "    - In Linux: `python3.8 -m venv .venv`\n",
    "4. Activate virtual environment: \n",
    "    - In Windows `.venv\\Scripts\\activate` \n",
    "    - In Linux `source .venv/bin/activate`\n",
    "5. Install all the dependencies in the virtual environment: `pip install -r requirements.txt`\n",
    "6. Run Jupyter Lab: `jupyter lab`\n",
    "\n",
    "You can also use [`uv`](https://github.com/astral-sh/uv) to set up virtual environment and run the notebook locally.\n",
    "\n",
    "<details><summary>Using uv</summary>\n",
    "\n",
    "```console\n",
    "$ uv venv -p 3.8\n",
    "Using Python 3.8.10 interpreter at C:\\Python38\\python.exe\n",
    "Creating virtualenv at: .venv\n",
    "$ .\\.venv\\Scripts\\activate\n",
    "$ uv pip install -r .\\requirements.txt\n",
    "Resolved 149 packages in 1.15s\n",
    "Downloaded 22 packages in 6.61s\n",
    "Installed 149 packages in 5.24s\n",
    " + anyio==4.2.0\n",
    " + argon2-cffi==23.1.0\n",
    " + argon2-cffi-bindings==21.2.0\n",
    " + arrow==1.3.0\n",
    " + asttokens==2.4.1\n",
    " + async-lru==2.0.4\n",
    " + attrs==23.2.0\n",
    " + babel==2.14.0\n",
    " + backcall==0.2.0\n",
    " + beautifulsoup4==4.12.3\n",
    " + black==24.2.0\n",
    " + bleach==6.1.0\n",
    " + bqplot==0.12.42\n",
    " + branca==0.7.1\n",
    " + certifi==2024.2.2\n",
    " + cffi==1.16.0\n",
    " + charset-normalizer==3.3.2\n",
    " + click==8.1.7\n",
    " + cloudpickle==3.0.0\n",
    " + colorama==0.4.6\n",
    " + comm==0.2.1\n",
    " + contourpy==1.1.1\n",
    " + cycler==0.12.1\n",
    " + debugpy==1.8.1\n",
    " + decorator==5.1.1\n",
    " + defusedxml==0.7.1\n",
    " + doit==0.36.0\n",
    " + exceptiongroup==1.2.0\n",
    " + executing==2.0.1\n",
    " + fastjsonschema==2.19.1\n",
    " + flake8==7.0.0\n",
    " + fonttools==4.49.0\n",
    " + fqdn==1.5.1\n",
    " + idna==3.6\n",
    " + importlib-metadata==7.0.1\n",
    " + importlib-resources==6.1.1\n",
    " + iniconfig==2.0.0\n",
    " + ipycanvas==0.13.1\n",
    " + ipyevents==2.0.2\n",
    " + ipykernel==6.29.2\n",
    " + ipyleaflet==0.18.2\n",
    " + ipympl==0.9.3\n",
    " + ipython==8.12.3\n",
    " + ipython-genutils==0.2.0\n",
    " + ipywidgets==8.1.2\n",
    " + isoduration==20.11.0\n",
    " + jedi==0.19.1\n",
    " + jinja2==3.1.3\n",
    " + json5==0.9.14\n",
    " + jsonpointer==2.4\n",
    " + jsonschema==4.21.1\n",
    " + jsonschema-specifications==2023.12.1\n",
    " + jupyter-client==8.6.0\n",
    " + jupyter-core==5.7.1\n",
    " + jupyter-events==0.9.0\n",
    " + jupyter-lsp==2.2.2\n",
    " + jupyter-server==2.12.5\n",
    " + jupyter-server-terminals==0.5.2\n",
    " + jupyterlab==4.0.12\n",
    " + jupyterlab-fasta==3.3.0\n",
    " + jupyterlab-geojson==3.4.0\n",
    " + jupyterlab-language-pack-fr-fr==4.0.post7\n",
    " + jupyterlab-language-pack-zh-cn==4.0.post7\n",
    " + jupyterlab-miami-nights==0.4.1\n",
    " + jupyterlab-night==0.4.6\n",
    " + jupyterlab-pygments==0.3.0\n",
    " + jupyterlab-server==2.25.3\n",
    " + jupyterlab-widgets==3.0.10\n",
    " + jupyterlite-core==0.2.3\n",
    " + jupyterlite-javascript-kernel==0.2.3\n",
    " + jupyterlite-p5-kernel==0.1.0\n",
    " + jupyterlite-pyodide-kernel==0.2.3\n",
    " + jupyterlite-xeus-lua==0.3.1\n",
    " + jupyterlite-xeus-sqlite==0.2.1\n",
    " + kiwisolver==1.4.5\n",
    " + markupsafe==2.1.5\n",
    " + matplotlib==3.7.5\n",
    " + matplotlib-inline==0.1.6\n",
    " + mccabe==0.7.0\n",
    " + mistune==3.0.2\n",
    " + mypy-extensions==1.0.0\n",
    " + nbclient==0.9.0\n",
    " + nbconvert==7.16.0\n",
    " + nbformat==5.9.2\n",
    " + nest-asyncio==1.6.0\n",
    " + notebook==7.0.8\n",
    " + notebook-shim==0.2.4\n",
    " + numpy==1.24.4\n",
    " + overrides==7.7.0\n",
    " + packaging==23.2\n",
    " + pandas==2.0.3\n",
    " + pandocfilters==1.5.1\n",
    " + parso==0.8.3\n",
    " + pathspec==0.12.1\n",
    " + pickleshare==0.7.5\n",
    " + pillow==10.2.0\n",
    " + pkginfo==1.9.6\n",
    " + pkgutil-resolve-name==1.3.10\n",
    " + platformdirs==4.2.0\n",
    " + plotly==5.19.0\n",
    " + pluggy==1.4.0\n",
    " + prometheus-client==0.20.0\n",
    " + prompt-toolkit==3.0.43\n",
    " + psutil==5.9.8\n",
    " + pure-eval==0.2.2\n",
    " + pycodestyle==2.11.1\n",
    " + pycodestyle-magic==0.5\n",
    " + pycparser==2.21\n",
    " + pyflakes==3.2.0\n",
    " + pygments==2.17.2\n",
    " + pyparsing==3.1.1\n",
    " + pytest==8.0.1\n",
    " + python-dateutil==2.8.2\n",
    " + python-json-logger==2.0.7\n",
    " + pytz==2024.1\n",
    " + pywin32==306\n",
    " + pywinpty==2.0.12\n",
    " + pyyaml==6.0.1\n",
    " + pyzmq==25.1.2\n",
    " + referencing==0.33.0\n",
    " + requests==2.31.0\n",
    " + rfc3339-validator==0.1.4\n",
    " + rfc3986-validator==0.1.1\n",
    " + rpds-py==0.18.0\n",
    " + send2trash==1.8.2\n",
    " + six==1.16.0\n",
    " + sniffio==1.3.0\n",
    " + soupsieve==2.5\n",
    " + stack-data==0.6.3\n",
    " + tenacity==8.2.3\n",
    " + terminado==0.18.0\n",
    " + tinycss2==1.2.1\n",
    " + tokenize-rt==5.2.0\n",
    " + tomli==2.0.1\n",
    " + tornado==6.4\n",
    " + traitlets==5.14.1\n",
    " + traittypes==0.2.1\n",
    " + types-python-dateutil==2.8.19.20240106\n",
    " + typing-extensions==4.9.0\n",
    " + tzdata==2024.1\n",
    " + uri-template==1.3.0\n",
    " + urllib3==2.2.1\n",
    " + wcwid3\n",
    " + webcolors==1.13\n",
    " + webencodings==0.5.1\n",
    " + websocket-client==1.7.0\n",
    " + widgetsnbextension==4.0.10\n",
    " + xyzservices==2023.10.1\n",
    " + zipp==3.17.0\n",
    "```\n",
    "\n",
    "</details>\n",
    "\n",
    "\r\n"
   ]
  },
  {
   "cell_type": "markdown",
   "id": "2aafd5f3-6a4b-44e3-808f-738d3d86ea74",
   "metadata": {
    "slideshow": {
     "slide_type": "subslide"
    },
    "tags": []
   },
   "source": [
    "---\n",
    "This course is targeted for developers who have already intermediate experience with Python and want to level up to advance level.\n",
    "\n",
    "Course is delivered by **Roy, Debakar**."
   ]
  },
  {
   "cell_type": "markdown",
   "id": "0f1f05e3-83fe-41c8-86e6-b1e2e66dd4fe",
   "metadata": {
    "slideshow": {
     "slide_type": "fragment"
    },
    "tags": []
   },
   "source": [
    "## Expectation/Pre-requisite\n",
    "\n",
    "You should already have knowledge of:\n",
    "- Python fundamentals (identifier, data types, loops, functions, OOP).\n",
    "- [Python intermediate](https://github.com/debakarr/intermediate-python) (decorator, lambda, typing, generator, iterator).\n",
    "- If you are new to Python, consider completing a beginner and intermediate Python course first.\n",
    "- We assume that we are on Python 3.8+\n",
    "- Git (In case you want to clone this repo and run it locally)."
   ]
  },
  {
   "cell_type": "markdown",
   "id": "d778223d-7162-4c44-a294-a0093e83104e",
   "metadata": {
    "slideshow": {
     "slide_type": "subslide"
    },
    "tags": []
   },
   "source": [
    "## What can you expect?\n",
    "\n",
    "Discover the essence of Pythonic programming in this concise course designed to elevate your coding skills. Learn the fundamentals of clean and efficient code.\n",
    "\n",
    "The objective of this class is to equip you with a collection of refined code snippets. These can be utilized to systematically review your entire codebase, replacing instances of less idiomatic code with more idiomatic alternatives as indicated during the discourse. "
   ]
  },
  {
   "cell_type": "markdown",
   "id": "951a82d4-31a6-47b6-a134-f64c0a2d7e76",
   "metadata": {
    "slideshow": {
     "slide_type": "slide"
    },
    "tags": []
   },
   "source": [
    "## Which Python version are we using?"
   ]
  },
  {
   "cell_type": "markdown",
   "id": "4d64abc2-bca1-4247-aa30-4541a23df85b",
   "metadata": {
    "slideshow": {
     "slide_type": "fragment"
    },
    "tags": []
   },
   "source": [
    "<div style=\"text-align: center\"><strong>Python3.8+</strong></div>"
   ]
  },
  {
   "cell_type": "markdown",
   "id": "847001a7-aeda-43fb-99cb-065fe909d453",
   "metadata": {
    "slideshow": {
     "slide_type": "fragment"
    },
    "tags": []
   },
   "source": [
    "| Branch | Schedule                                       | Status        | First release | End of life  | Release manager       |\n",
    "| ------ | ---------------------------------------------- | ------------- | ------------- | ------------ | --------------------- |\n",
    "| main   | [PEP 719](https://peps.python.org/pep-0719/)   | feature       | _2024-10-01_  | _2029-10_    | Thomas Wouters        |\n",
    "| 3.12   | [PEP 693](https://peps.python.org/pep-0693/)   | prerelease    | _2023-10-02_  | _2028-10_    | Thomas Wouters        |\n",
    "| 3.11   | [PEP 664](https://peps.python.org/pep-0664/)   | bugfix        | 2022-10-24    | _2027-10_    | Pablo Galindo Salgado |\n",
    "| 3.10   | [PEP 619](https://peps.python.org/pep-0619/)   | security      | 2021-10-04    | _2026-10_    | Pablo Galindo Salgado |\n",
    "| 3.9    | [PEP 596](https://peps.python.org/pep-0596/)   | security      | 2020-10-05    | _2025-10_    | Łukasz Langa          |\n",
    "| 3.8    | [PEP 569](https://peps.python.org/pep-0569/)   | security      | 2019-10-14    | _2024-10_    | Łukasz Langa          |\n",
    "| ~3.7~  | ~[PEP 537](https://peps.python.org/pep-0537/)~ | ~end-of-life~ | ~2018-06-27~  | ~2023-06-27~ | ~Ned Deily~           |\n",
    "\n",
    "<div style=\"text-align: center\"><a href=\"https://devguide.python.org/versions/\">Source for the above table</a></div>"
   ]
  },
  {
   "cell_type": "markdown",
   "id": "b154d3b7-6c60-49d7-9edc-37a9b1af0b0f",
   "metadata": {
    "slideshow": {
     "slide_type": "subslide"
    },
    "tags": []
   },
   "source": [
    "## Running different Python version in Windows\n",
    "\n",
    "![](./static/py_launcher.png)"
   ]
  },
  {
   "cell_type": "markdown",
   "id": "721ac315-436d-4cad-8051-4f3b9e703fc6",
   "metadata": {
    "slideshow": {
     "slide_type": "subslide"
    },
    "tags": []
   },
   "source": [
    "## Running different Python version in Linux\n",
    "\n",
    "![](./static/python_launcher_linux.png)"
   ]
  }
 ],
 "metadata": {
  "kernelspec": {
   "display_name": "Python 3 (ipykernel)",
   "language": "python",
   "name": "python3"
  },
  "language_info": {
   "codemirror_mode": {
    "name": "ipython",
    "version": 3
   },
   "file_extension": ".py",
   "mimetype": "text/x-python",
   "name": "python",
   "nbconvert_exporter": "python",
   "pygments_lexer": "ipython3",
   "version": "3.8.10"
  }
 },
 "nbformat": 4,
 "nbformat_minor": 5
}
