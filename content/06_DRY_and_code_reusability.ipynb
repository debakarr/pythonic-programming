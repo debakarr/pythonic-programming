{
 "cells": [
  {
   "cell_type": "markdown",
   "id": "34a7548d-5d33-4a64-a83f-8470958f112a",
   "metadata": {
    "slideshow": {
     "slide_type": "slide"
    },
    "tags": []
   },
   "source": [
    "\\[<< [Generators and Lazy Evaluation](./05_generators_and_lazy_evaluation.ipynb) | [Index](./00_index.ipynb) | [Lambda Functions and Functional Programming](./07_lambda_functions_and_functional_programming.ipynb) >>\\]"
   ]
  },
  {
   "cell_type": "markdown",
   "id": "0b3ddfb7-d114-4b67-a9f9-2e883e5175f6",
   "metadata": {
    "slideshow": {
     "slide_type": "slide"
    },
    "tags": []
   },
   "source": [
    "## DRY and Code Reusability"
   ]
  },
  {
   "cell_type": "markdown",
   "id": "7511acde-83ff-4ca9-a892-84b1d805c059",
   "metadata": {
    "slideshow": {
     "slide_type": "subslide"
    },
    "tags": []
   },
   "source": [
    "### Decorator"
   ]
  },
  {
   "cell_type": "markdown",
   "id": "a00ce387-d848-45b8-a3a2-6f56e29a739d",
   "metadata": {
    "slideshow": {
     "slide_type": "fragment"
    },
    "tags": []
   },
   "source": [
    "**Pre-requisite**: [Decorator topic in intermediate-python course](https://github.com/debakarr/intermediate-python/blob/main/content/05_other_functions_concepts.ipynb)"
   ]
  },
  {
   "cell_type": "markdown",
   "id": "75ec4cc6-1a4e-4165-99c0-2042608060d1",
   "metadata": {
    "slideshow": {
     "slide_type": "fragment"
    },
    "tags": []
   },
   "source": [
    "We have two functions. To simulate execution time we have added `time.sleep`."
   ]
  },
  {
   "cell_type": "code",
   "execution_count": 1,
   "id": "539fab2a-45bc-4ed8-a9ed-252acc09b256",
   "metadata": {
    "slideshow": {
     "slide_type": "fragment"
    },
    "tags": []
   },
   "outputs": [
    {
     "data": {
      "text/plain": [
       "15"
      ]
     },
     "execution_count": 1,
     "metadata": {},
     "output_type": "execute_result"
    }
   ],
   "source": [
    "import time\n",
    "import random\n",
    "\n",
    "\n",
    "def foo(*args):\n",
    "    # Does some work\n",
    "    time.sleep(random.randint(1, 5))\n",
    "    return sum(args)\n",
    "\n",
    "\n",
    "def bar(*args):\n",
    "    # Does some work\n",
    "    time.sleep(random.randint(1, 5))\n",
    "    return sum(args)\n",
    "\n",
    "\n",
    "foo(1, 2, 3)\n",
    "bar(4, 5, 6)"
   ]
  },
  {
   "cell_type": "markdown",
   "id": "ef269773-9084-4533-8f4a-093d457038c8",
   "metadata": {
    "slideshow": {
     "slide_type": "subslide"
    },
    "tags": []
   },
   "source": [
    "Say now we want to print the parameter passed to each function and also print the time it took to execute the function, then we might be adding some code which looks similar in both the functions."
   ]
  },
  {
   "cell_type": "code",
   "execution_count": 2,
   "id": "936ab30d-3ebd-45ff-8aa0-d25e87caaef8",
   "metadata": {
    "slideshow": {
     "slide_type": "fragment"
    },
    "tags": []
   },
   "outputs": [
    {
     "name": "stdout",
     "output_type": "stream",
     "text": [
      "foo called with (1, 2, 3)\n",
      "Time taken to complete foo: 4.001530000000001 seconds\n",
      "bar called with (4, 5, 6)\n",
      "Time taken to complete foo: 1.0024460000000008 seconds\n"
     ]
    },
    {
     "data": {
      "text/plain": [
       "15"
      ]
     },
     "execution_count": 2,
     "metadata": {},
     "output_type": "execute_result"
    }
   ],
   "source": [
    "def foo(*args):\n",
    "    print(f\"foo called with {args}\")\n",
    "    # Does some work\n",
    "    start = time.perf_counter()\n",
    "    time.sleep(random.randint(1, 5))\n",
    "    print(f\"Time taken to complete foo: {time.perf_counter() - start} seconds\")\n",
    "    return sum(args)\n",
    "\n",
    "\n",
    "def bar(*args):\n",
    "    print(f\"bar called with {args}\")\n",
    "    # Does some work\n",
    "    start = time.perf_counter()\n",
    "    time.sleep(random.randint(1, 5))\n",
    "    print(f\"Time taken to complete foo: {time.perf_counter() - start} seconds\")\n",
    "    return sum(args)\n",
    "\n",
    "\n",
    "foo(1, 2, 3)\n",
    "bar(4, 5, 6)"
   ]
  },
  {
   "cell_type": "markdown",
   "id": "cd436256-f4c7-47ac-a414-74733bfc22c6",
   "metadata": {
    "slideshow": {
     "slide_type": "subslide"
    },
    "tags": []
   },
   "source": [
    "**Using decorator to practice DRY (Don't Repeat Yourself)**"
   ]
  },
  {
   "cell_type": "code",
   "execution_count": 3,
   "id": "aeeaabaf-cbf2-44ae-8169-8d9eb5c1d0ff",
   "metadata": {},
   "outputs": [],
   "source": [
    "import functools\n",
    "\n",
    "\n",
    "def log_args(func):\n",
    "    @functools.wraps(func)\n",
    "    def wraps(*args, **kwargs):\n",
    "        print(f\"{func.__qualname__} called with {args}\")\n",
    "        result = func(*args, **kwargs)\n",
    "        return result\n",
    "\n",
    "    return wraps\n",
    "\n",
    "\n",
    "def measure_exec(func):\n",
    "    @functools.wraps(func)\n",
    "    def wraps(*args, **kwargs):\n",
    "        start = time.perf_counter()\n",
    "        result = func(*args, **kwargs)\n",
    "        print(\n",
    "            f\"Time taken to complete {func.__qualname__}: {time.perf_counter() - start} seconds\"\n",
    "        )\n",
    "        return result\n",
    "\n",
    "    return wraps"
   ]
  },
  {
   "cell_type": "code",
   "execution_count": 4,
   "id": "d27d7c0f-1f11-4619-91fe-31dc7a6ccc98",
   "metadata": {
    "slideshow": {
     "slide_type": "subslide"
    },
    "tags": []
   },
   "outputs": [
    {
     "name": "stdout",
     "output_type": "stream",
     "text": [
      "foo called with (1, 2, 3)\n",
      "Time taken to complete foo: 5.007097300000002 seconds\n",
      "bar called with (4, 5, 6)\n",
      "Time taken to complete bar: 3.0020236999999987 seconds\n"
     ]
    },
    {
     "data": {
      "text/plain": [
       "15"
      ]
     },
     "execution_count": 4,
     "metadata": {},
     "output_type": "execute_result"
    }
   ],
   "source": [
    "@measure_exec\n",
    "@log_args\n",
    "def foo(*args):\n",
    "    # Does some work\n",
    "    time.sleep(random.randint(1, 5))\n",
    "    return sum(args)\n",
    "\n",
    "\n",
    "@measure_exec\n",
    "@log_args\n",
    "def bar(*args):\n",
    "    # Does some work\n",
    "    time.sleep(random.randint(1, 5))\n",
    "    return sum(args)\n",
    "\n",
    "\n",
    "foo(1, 2, 3)\n",
    "bar(4, 5, 6)"
   ]
  },
  {
   "cell_type": "markdown",
   "id": "f88fcf7a-9321-460e-8db0-bbb863cf4558",
   "metadata": {
    "slideshow": {
     "slide_type": "subslide"
    },
    "tags": []
   },
   "source": [
    "### Modules and Packages\n",
    "\n",
    "Modules and packages are another way in which you can reuse the code you have written. In fact this is the standard way in which everyone in python community shares tools and libraries they have written in python."
   ]
  },
  {
   "cell_type": "markdown",
   "id": "63923f22-6ce9-4083-95ab-492ce16ed79e",
   "metadata": {},
   "source": [
    "**Footnotes:**\n",
    "- Decorators are a key feature in Python for adding functionality to functions and methods without modifying their core logic.\n",
    "- The `functools.wraps` decorator is essential for preserving a function's metadata when it is decorated.\n",
    "- Organizing code into modules and packages is fundamental for code reusability and distribution within the Python ecosystem."
   ]
  },
  {
   "cell_type": "markdown",
   "id": "471955c5-9d93-4d1b-8d58-e0556be0b527",
   "metadata": {},
   "source": [
    "\\[<< [Generators and Lazy Evaluation](./05_generators_and_lazy_evaluation.ipynb) | [Index](./00_index.ipynb) | [Lambda Functions and Functional Programming](./07_lambda_functions_and_functional_programming.ipynb) >>\\]"
   ]
  }
 ],
 "metadata": {
  "kernelspec": {
   "display_name": "Python 3 (ipykernel)",
   "language": "python",
   "name": "python3"
  },
  "language_info": {
   "codemirror_mode": {
    "name": "ipython",
    "version": 3
   },
   "file_extension": ".py",
   "mimetype": "text/x-python",
   "name": "python",
   "nbconvert_exporter": "python",
   "pygments_lexer": "ipython3",
   "version": "3.8.10"
  }
 },
 "nbformat": 4,
 "nbformat_minor": 5
}
