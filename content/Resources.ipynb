{
 "cells": [
  {
   "cell_type": "markdown",
   "id": "304455a1-9ed2-4092-bd5b-edd4fc49ef6c",
   "metadata": {},
   "source": [
    "### Article related to writing Pythonic Code\n",
    "\n",
    "1.  [Designing Pythonic library APIs (benhoyt.com)](https://benhoyt.com/writings/python-api-design/)\n",
    "2.  [amontalenti/elements-of-python-style: Goes beyond PEP8 to discuss what makes Python code feel great. A Strunk & White for Python. (github.com)](https://github.com/amontalenti/elements-of-python-style)\n",
    "3.  [What does a person mean exactly when they describe code as pythonic? : learnpython (reddit.com)](https://www.reddit.com/r/learnpython/comments/abdne1/what_does_a_person_mean_exactly_when_they/)\n",
    "4.  [Writing Beautiful Pythonic Code With PEP 8 – Real Python](https://realpython.com/courses/writing-beautiful-python-code-pep-8/)\n",
    "5.  [How to Write Pythonic Loops – Real Python](https://realpython.com/courses/how-to-write-pythonic-loops/)\n",
    "6.  [Pythonic code review (redhat.com)](https://www.redhat.com/en/blog/pythonic-code-review)\n",
    "7.  [A Pythonic Guide to SOLID Design Principles - DEV Community](https://dev.to/ezzy1337/a-pythonic-guide-to-solid-design-principles-4c8i)\n",
    "8.  [Python's reduce(): From Functional to Pythonic Style – Real Python](https://realpython.com/python-reduce-function/)\n",
    "9.  [10 Awesome Pythonic One-Liners Explained - DEV Community](https://dev.to/devmount/10-awesome-pythonic-one-liners-explained-3doc)\n",
    "10.  [Writing More Idiomatic and Pythonic Code | by Martin Heinz | Towards Data Science](https://towardsdatascience.com/writing-more-idiomatic-and-pythonic-code-c22e900eaf83)\n",
    "11.  [Pythonic monotonic | Ned Batchelder](https://nedbatchelder.com/blog/202108/pythonic_monotonic.html)\n",
    "12.  [3 Tips For Writing Pythonic Code (googleusercontent.com)](https://webcache.googleusercontent.com/search?q=cache:CTdeSsxuqg4J:https://davidamos.dev/3-tips-for-writing-pythonic-code/&cd=25&hl=en&ct=clnk&gl=in)\n",
    "13.  [5 techniques to Idiomatic Python (Loops) | Idiomatic Programmers](https://idiomaticprogrammers.com/post/idiomatic-python-programming/)\n",
    "14.  [A \"Best of the Best Practices\" (BOBP) guide to developing in Python. (github.com)](https://gist.github.com/sloria/7001839)\n",
    "15.  [Pythonic Data Cleaning With pandas and NumPy – Real Python](https://realpython.com/python-data-cleaning-numpy-pandas/)\n",
    "16.  [Code Style — The Hitchhiker's Guide to Python (python-guide.org)](https://docs.python-guide.org/writing/style/)"
   ]
  },
  {
   "cell_type": "markdown",
   "id": "80c034d6-67ad-40aa-9e21-87a5c3502813",
   "metadata": {},
   "source": [
    "[**Other Python Resource**](https://github.com/debakarr/intermediate-python/blob/main/content/15_python_toolkit.ipynb)"
   ]
  }
 ],
 "metadata": {
  "kernelspec": {
   "display_name": "Python 3 (ipykernel)",
   "language": "python",
   "name": "python3"
  },
  "language_info": {
   "codemirror_mode": {
    "name": "ipython",
    "version": 3
   },
   "file_extension": ".py",
   "mimetype": "text/x-python",
   "name": "python",
   "nbconvert_exporter": "python",
   "pygments_lexer": "ipython3",
   "version": "3.8.10"
  }
 },
 "nbformat": 4,
 "nbformat_minor": 5
}
