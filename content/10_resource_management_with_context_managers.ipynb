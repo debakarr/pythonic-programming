{
 "cells": [
  {
   "cell_type": "markdown",
   "id": "35b7721b-ddd0-4b5e-953c-cc1772a9a3d2",
   "metadata": {},
   "source": [
    "## Resource Management with Context Managers"
   ]
  },
  {
   "cell_type": "markdown",
   "id": "e08876c5-5a49-4493-9eeb-cfd1a1f8eb16",
   "metadata": {},
   "source": [
    "**Pre-requisite**: [Context manager topic in intermediate-python course](https://github.com/debakarr/intermediate-python/blob/main/content/07_context_managers.ipynb)"
   ]
  },
  {
   "cell_type": "markdown",
   "id": "01139104-4cae-4494-bd1f-1640d9870f9a",
   "metadata": {},
   "source": [
    "### Using optional context manager\n",
    "\n",
    "Say you have a method which writes to desire stdout and also writes to a log file if an optional parameter is passed."
   ]
  },
  {
   "cell_type": "code",
   "execution_count": 1,
   "id": "b254cf17-c48b-4877-a203-ab2fb2958545",
   "metadata": {},
   "outputs": [
    {
     "name": "stdout",
     "output_type": "stream",
     "text": [
      "This writes to stream only\n",
      "This writes to stream as well as file\n"
     ]
    }
   ],
   "source": [
    "# Works\n",
    "import sys\n",
    "from typing import IO, Optional\n",
    "\n",
    "\n",
    "def write_to_stream(data: str, stream: IO, filename: Optional[str] = None) -> None:\n",
    "    if filename is not None:\n",
    "        with open(filename, \"w\") as f:\n",
    "            output_streams = [f, stream]\n",
    "            for output_stream in output_streams:\n",
    "                output_stream.write(f\"{data}\\n\")\n",
    "    else:\n",
    "        stream.write(f\"{data}\\n\")\n",
    "\n",
    "\n",
    "write_to_stream(data=\"This writes to stream only\", stream=sys.stdout)\n",
    "write_to_stream(\n",
    "    data=\"This writes to stream as well as file\", stream=sys.stdout, filename=\"test.log\"\n",
    ")"
   ]
  },
  {
   "cell_type": "code",
   "execution_count": 2,
   "id": "90bc99db-4443-43ca-bfb6-a9b050893d7c",
   "metadata": {},
   "outputs": [
    {
     "name": "stdout",
     "output_type": "stream",
     "text": [
      "This writes to stream only\n",
      "This writes to stream as well as file\n"
     ]
    }
   ],
   "source": [
    "# Pythonic\n",
    "import contextlib\n",
    "import sys\n",
    "from typing import IO, Optional\n",
    "\n",
    "\n",
    "def write_to_stream(data: str, stream: IO, filename: Optional[str] = None) -> None:\n",
    "    with contextlib.ExitStack() as ctx:\n",
    "        output_streams = [stream]\n",
    "        if filename is not None:\n",
    "            output_streams.append(ctx.enter_context(open(filename, \"w\")))\n",
    "        for output_stream in output_streams:\n",
    "            output_stream.write(f\"{data}\\n\")\n",
    "\n",
    "\n",
    "write_to_stream(data=\"This writes to stream only\", stream=sys.stdout)\n",
    "write_to_stream(\n",
    "    data=\"This writes to stream as well as file\", stream=sys.stdout, filename=\"test.log\"\n",
    ")"
   ]
  },
  {
   "cell_type": "markdown",
   "id": "9017a1af-685a-46e1-9582-8ea6e210cac1",
   "metadata": {},
   "source": [
    "**Footnotes:**\n",
    "- Context managers provide a convenient way to automatically manage resources with well-defined setup and teardown actions.\n",
    "- `contextlib.ExitStack` offers a versatile solution for cases where the number of context managers is not known in advance or depends on runtime conditions.\n",
    "- This pattern is particularly useful in applications that require conditional resource management or need to manage multiple resources in parallel."
   ]
  }
 ],
 "metadata": {
  "kernelspec": {
   "display_name": "Python 3 (ipykernel)",
   "language": "python",
   "name": "python3"
  },
  "language_info": {
   "codemirror_mode": {
    "name": "ipython",
    "version": 3
   },
   "file_extension": ".py",
   "mimetype": "text/x-python",
   "name": "python",
   "nbconvert_exporter": "python",
   "pygments_lexer": "ipython3",
   "version": "3.8.10"
  }
 },
 "nbformat": 4,
 "nbformat_minor": 5
}
