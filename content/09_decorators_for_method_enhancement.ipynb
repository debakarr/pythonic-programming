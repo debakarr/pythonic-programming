{
 "cells": [
  {
   "cell_type": "markdown",
   "id": "c7e86137-72d0-4a03-98e0-8ade9f89f9ad",
   "metadata": {
    "slideshow": {
     "slide_type": "slide"
    },
    "tags": []
   },
   "source": [
    "\\[<< [Duck Typing and Goose Typing](./08_duck_typing_and_goose_typing.ipynb) | [Index](./00_index.ipynb) | [Resource Management with Context Managers](./10_resource_management_with_context_managers.ipynb) >>\\]"
   ]
  },
  {
   "cell_type": "markdown",
   "id": "e7352d66-7a96-4cbf-9880-5130eab01996",
   "metadata": {
    "slideshow": {
     "slide_type": "slide"
    },
    "tags": []
   },
   "source": [
    "## Decorators for method Enhancement"
   ]
  },
  {
   "cell_type": "markdown",
   "id": "4892e7f7-5fa4-4ca0-993a-ba1d021ddea6",
   "metadata": {
    "slideshow": {
     "slide_type": "fragment"
    },
    "tags": []
   },
   "source": [
    "**Pre-requisite**: [Decorator topic in intermediate-python course](https://github.com/debakarr/intermediate-python/blob/main/content/05_other_functions_concepts.ipynb)"
   ]
  },
  {
   "cell_type": "markdown",
   "id": "49e3aea1-3237-418d-a887-58a9dd8223fc",
   "metadata": {
    "slideshow": {
     "slide_type": "subslide"
    },
    "tags": []
   },
   "source": [
    "### `@property` decorator"
   ]
  },
  {
   "cell_type": "code",
   "execution_count": 1,
   "id": "dcced90f-114b-4aac-b427-312578d11293",
   "metadata": {
    "slideshow": {
     "slide_type": "fragment"
    },
    "tags": []
   },
   "outputs": [],
   "source": [
    "class Position:\n",
    "    def __init__(self, x=0, y=0):\n",
    "        self.x = x\n",
    "        self.y = y\n",
    "\n",
    "    def turn_left(self):\n",
    "        print(\"Turning left...\")\n",
    "        self.x -= 1\n",
    "\n",
    "    def turn_right(self):\n",
    "        print(\"Turning right...\")\n",
    "        self.x += 1\n",
    "\n",
    "    def turn_up(self):\n",
    "        print(\"Turning up...\")\n",
    "        self.y += 1\n",
    "\n",
    "    def turn_down(self):\n",
    "        print(\"Turning down...\")\n",
    "        self.y -= 1\n",
    "\n",
    "    def __repr__(self):\n",
    "        return f\"Position(x={self.x}, y={self.y})\""
   ]
  },
  {
   "cell_type": "code",
   "execution_count": 2,
   "id": "1c3127f4-409c-4d82-98ce-47ae901d4b23",
   "metadata": {
    "slideshow": {
     "slide_type": "subslide"
    },
    "tags": []
   },
   "outputs": [
    {
     "name": "stdout",
     "output_type": "stream",
     "text": [
      "Position(x=0, y=0)\n",
      "Turning left...\n",
      "Position(x=-1, y=0)\n",
      "Turning down...\n",
      "Position(x=-1, y=-1)\n",
      "current_loc = (-1, -1)\n"
     ]
    }
   ],
   "source": [
    "pos = Position()\n",
    "print(pos)\n",
    "pos.turn_left()\n",
    "print(pos)\n",
    "pos.turn_down()\n",
    "print(pos)\n",
    "\n",
    "# Getting current location\n",
    "current_loc = pos.x, pos.y\n",
    "print(f\"{current_loc = }\")"
   ]
  },
  {
   "cell_type": "markdown",
   "id": "cbefd598-8e55-4421-a1f8-bef50b3da063",
   "metadata": {
    "slideshow": {
     "slide_type": "subslide"
    },
    "tags": []
   },
   "source": [
    "Now suppose we want to get the x and y cordinate at the same time. We can think of adding a function which returns up coordinate of x and y."
   ]
  },
  {
   "cell_type": "code",
   "execution_count": 3,
   "id": "9691ae69-1fdf-4175-8c4c-117d1ada16d6",
   "metadata": {
    "slideshow": {
     "slide_type": "fragment"
    },
    "tags": []
   },
   "outputs": [],
   "source": [
    "class Position:\n",
    "    def __init__(self, x=0, y=0):\n",
    "        self.x = x\n",
    "        self.y = y\n",
    "\n",
    "    def turn_left(self):\n",
    "        print(\"Turning left...\")\n",
    "        self.x -= 1\n",
    "\n",
    "    def turn_right(self):\n",
    "        print(\"Turning right...\")\n",
    "        self.x += 1\n",
    "\n",
    "    def turn_up(self):\n",
    "        print(\"Turning up...\")\n",
    "        self.y += 1\n",
    "\n",
    "    def turn_down(self):\n",
    "        print(\"Turning down...\")\n",
    "        self.y -= 1\n",
    "\n",
    "    def __repr__(self):\n",
    "        return f\"Position(x={self.x}, y={self.y})\"\n",
    "\n",
    "    def loc(self):\n",
    "        return self.x, self.y"
   ]
  },
  {
   "cell_type": "code",
   "execution_count": 4,
   "id": "a53dafbf-9fee-4083-bde2-91fe9cb8c0c3",
   "metadata": {
    "slideshow": {
     "slide_type": "subslide"
    },
    "tags": []
   },
   "outputs": [
    {
     "name": "stdout",
     "output_type": "stream",
     "text": [
      "Position(x=0, y=0)\n",
      "Turning left...\n",
      "Position(x=-1, y=0)\n",
      "Turning down...\n",
      "Position(x=-1, y=-1)\n",
      "current_loc = (-1, -1)\n"
     ]
    }
   ],
   "source": [
    "pos = Position()\n",
    "print(pos)\n",
    "pos.turn_left()\n",
    "print(pos)\n",
    "pos.turn_down()\n",
    "print(pos)\n",
    "\n",
    "# Getting current location\n",
    "current_loc = pos.loc()\n",
    "print(f\"{current_loc = }\")"
   ]
  },
  {
   "cell_type": "markdown",
   "id": "4e59d9fe-5326-4272-865c-45841af6c943",
   "metadata": {
    "slideshow": {
     "slide_type": "subslide"
    },
    "tags": []
   },
   "source": [
    "`@property` let us use a function as instance attribute. Although the function call still happens in background, but the end user can access just like any other attribute."
   ]
  },
  {
   "cell_type": "code",
   "execution_count": 5,
   "id": "0cebd04a-cdb2-4172-be5e-a7df4ca68de5",
   "metadata": {
    "slideshow": {
     "slide_type": "fragment"
    },
    "tags": []
   },
   "outputs": [],
   "source": [
    "class Position:\n",
    "    def __init__(self, x=0, y=0):\n",
    "        self.x = x\n",
    "        self.y = y\n",
    "\n",
    "    def turn_left(self):\n",
    "        print(\"Turning left...\")\n",
    "        self.x -= 1\n",
    "\n",
    "    def turn_right(self):\n",
    "        print(\"Turning right...\")\n",
    "        self.x += 1\n",
    "\n",
    "    def turn_up(self):\n",
    "        print(\"Turning up...\")\n",
    "        self.y += 1\n",
    "\n",
    "    def turn_down(self):\n",
    "        print(\"Turning down...\")\n",
    "        self.y -= 1\n",
    "\n",
    "    def __repr__(self):\n",
    "        return f\"Position(x={self.x}, y={self.y})\"\n",
    "\n",
    "    @property\n",
    "    def loc(self):\n",
    "        return self.x, self.y"
   ]
  },
  {
   "cell_type": "code",
   "execution_count": 6,
   "id": "44301691-0d71-412f-b74a-bc1a31a2f818",
   "metadata": {
    "slideshow": {
     "slide_type": "subslide"
    },
    "tags": []
   },
   "outputs": [
    {
     "name": "stdout",
     "output_type": "stream",
     "text": [
      "Position(x=0, y=0)\n",
      "Turning left...\n",
      "Position(x=-1, y=0)\n",
      "Turning down...\n",
      "Position(x=-1, y=-1)\n",
      "pos.loc = (-1, -1)\n"
     ]
    }
   ],
   "source": [
    "pos = Position()\n",
    "print(pos)\n",
    "pos.turn_left()\n",
    "print(pos)\n",
    "pos.turn_down()\n",
    "print(pos)\n",
    "\n",
    "# Getting current location\n",
    "print(f\"{pos.loc = }\")"
   ]
  },
  {
   "cell_type": "code",
   "execution_count": 7,
   "id": "a4292e50-b0d0-423e-8c51-8650f8a7ec21",
   "metadata": {
    "slideshow": {
     "slide_type": "subslide"
    },
    "tags": [
     "raises-exception"
    ]
   },
   "outputs": [
    {
     "ename": "AttributeError",
     "evalue": "can't set attribute",
     "output_type": "error",
     "traceback": [
      "\u001b[1;31m---------------------------------------------------------------------------\u001b[0m",
      "\u001b[1;31mAttributeError\u001b[0m                            Traceback (most recent call last)",
      "Cell \u001b[1;32mIn[7], line 1\u001b[0m\n\u001b[1;32m----> 1\u001b[0m \u001b[43mpos\u001b[49m\u001b[38;5;241;43m.\u001b[39;49m\u001b[43mloc\u001b[49m \u001b[38;5;241m=\u001b[39m \u001b[38;5;241m200\u001b[39m, \u001b[38;5;241m200\u001b[39m\n",
      "\u001b[1;31mAttributeError\u001b[0m: can't set attribute"
     ]
    }
   ],
   "source": [
    "pos.loc = 200, 200"
   ]
  },
  {
   "cell_type": "markdown",
   "id": "ea9365b8-cb6f-4922-9fd6-dbc2cc7e0941",
   "metadata": {
    "slideshow": {
     "slide_type": "subslide"
    },
    "tags": []
   },
   "source": [
    "This can be extended from getter to setter. This gives ability for the end user to set multiple attributes at once and the class maintainer can additionally add extra validation."
   ]
  },
  {
   "cell_type": "code",
   "execution_count": 8,
   "id": "49442398-106d-48f6-8403-c6dcd726a306",
   "metadata": {
    "slideshow": {
     "slide_type": "fragment"
    },
    "tags": []
   },
   "outputs": [],
   "source": [
    "class Position:\n",
    "    def __init__(self, x=0, y=0, boundry=100):\n",
    "        self.x = x\n",
    "        self.y = y\n",
    "        self.boundry = boundry\n",
    "\n",
    "    def turn_left(self):\n",
    "        print(\"Turning left...\")\n",
    "        self.x -= 1\n",
    "\n",
    "    def turn_right(self):\n",
    "        print(\"Turning right...\")\n",
    "        self.x += 1\n",
    "\n",
    "    def turn_up(self):\n",
    "        print(\"Turning up...\")\n",
    "        self.y += 1\n",
    "\n",
    "    def turn_down(self):\n",
    "        print(\"Turning down...\")\n",
    "        self.y -= 1\n",
    "\n",
    "    def __repr__(self):\n",
    "        return f\"Position(x={self.x}, y={self.y})\"\n",
    "\n",
    "    @property\n",
    "    def loc(self):\n",
    "        return self.x, self.y\n",
    "\n",
    "    @loc.setter\n",
    "    def loc(self, loc):\n",
    "        new_x, new_y = loc\n",
    "        if not (-self.boundry <= new_x <= self.boundry) or not (\n",
    "            -self.boundry <= new_y <= self.boundry\n",
    "        ):\n",
    "            raise ValueError(\"Out of bound. Position should be inside boundry.\")\n",
    "        self.x, self.y = loc"
   ]
  },
  {
   "cell_type": "code",
   "execution_count": 9,
   "id": "abe27a0d-729a-47b8-8590-c94eb6596607",
   "metadata": {
    "slideshow": {
     "slide_type": "subslide"
    },
    "tags": [
     "raises-exception"
    ]
   },
   "outputs": [
    {
     "name": "stdout",
     "output_type": "stream",
     "text": [
      "Position(x=0, y=0)\n",
      "Position(x=100, y=100)\n"
     ]
    },
    {
     "ename": "ValueError",
     "evalue": "Out of bound. Position should be inside boundry.",
     "output_type": "error",
     "traceback": [
      "\u001b[1;31m---------------------------------------------------------------------------\u001b[0m",
      "\u001b[1;31mValueError\u001b[0m                                Traceback (most recent call last)",
      "Cell \u001b[1;32mIn[9], line 5\u001b[0m\n\u001b[0;32m      3\u001b[0m pos\u001b[38;5;241m.\u001b[39mloc \u001b[38;5;241m=\u001b[39m \u001b[38;5;241m100\u001b[39m, \u001b[38;5;241m100\u001b[39m\n\u001b[0;32m      4\u001b[0m \u001b[38;5;28mprint\u001b[39m(pos)\n\u001b[1;32m----> 5\u001b[0m \u001b[43mpos\u001b[49m\u001b[38;5;241;43m.\u001b[39;49m\u001b[43mloc\u001b[49m \u001b[38;5;241m=\u001b[39m \u001b[38;5;241m200\u001b[39m, \u001b[38;5;241m200\u001b[39m\n",
      "Cell \u001b[1;32mIn[8], line 36\u001b[0m, in \u001b[0;36mPosition.loc\u001b[1;34m(self, loc)\u001b[0m\n\u001b[0;32m     32\u001b[0m new_x, new_y \u001b[38;5;241m=\u001b[39m loc\n\u001b[0;32m     33\u001b[0m \u001b[38;5;28;01mif\u001b[39;00m \u001b[38;5;129;01mnot\u001b[39;00m (\u001b[38;5;241m-\u001b[39m\u001b[38;5;28mself\u001b[39m\u001b[38;5;241m.\u001b[39mboundry \u001b[38;5;241m<\u001b[39m\u001b[38;5;241m=\u001b[39m new_x \u001b[38;5;241m<\u001b[39m\u001b[38;5;241m=\u001b[39m \u001b[38;5;28mself\u001b[39m\u001b[38;5;241m.\u001b[39mboundry) \u001b[38;5;129;01mor\u001b[39;00m \u001b[38;5;129;01mnot\u001b[39;00m (\n\u001b[0;32m     34\u001b[0m     \u001b[38;5;241m-\u001b[39m\u001b[38;5;28mself\u001b[39m\u001b[38;5;241m.\u001b[39mboundry \u001b[38;5;241m<\u001b[39m\u001b[38;5;241m=\u001b[39m new_y \u001b[38;5;241m<\u001b[39m\u001b[38;5;241m=\u001b[39m \u001b[38;5;28mself\u001b[39m\u001b[38;5;241m.\u001b[39mboundry\n\u001b[0;32m     35\u001b[0m ):\n\u001b[1;32m---> 36\u001b[0m     \u001b[38;5;28;01mraise\u001b[39;00m \u001b[38;5;167;01mValueError\u001b[39;00m(\u001b[38;5;124m\"\u001b[39m\u001b[38;5;124mOut of bound. Position should be inside boundry.\u001b[39m\u001b[38;5;124m\"\u001b[39m)\n\u001b[0;32m     37\u001b[0m \u001b[38;5;28mself\u001b[39m\u001b[38;5;241m.\u001b[39mx, \u001b[38;5;28mself\u001b[39m\u001b[38;5;241m.\u001b[39my \u001b[38;5;241m=\u001b[39m loc\n",
      "\u001b[1;31mValueError\u001b[0m: Out of bound. Position should be inside boundry."
     ]
    }
   ],
   "source": [
    "pos = Position()\n",
    "print(pos)\n",
    "pos.loc = 100, 100\n",
    "print(pos)\n",
    "pos.loc = 200, 200"
   ]
  },
  {
   "cell_type": "markdown",
   "id": "21818f6b-14a4-4a70-bdb5-705dc9150c35",
   "metadata": {
    "slideshow": {
     "slide_type": "subslide"
    },
    "tags": []
   },
   "source": [
    "### `staticmethod` and `classmethod`"
   ]
  },
  {
   "cell_type": "code",
   "execution_count": 10,
   "id": "59487e5b-0ce5-4e58-b4cd-22b8fb4a7d2c",
   "metadata": {
    "slideshow": {
     "slide_type": "fragment"
    },
    "tags": []
   },
   "outputs": [],
   "source": [
    "class A:\n",
    "    CLASS_VAR = 1\n",
    "\n",
    "    def __init__(self, instance_var):\n",
    "        self.instance_var = instance_var\n",
    "\n",
    "    def foo(self, x):\n",
    "        print(f\"executing foo({self}, {x})\")\n",
    "        self.instance_var = x\n",
    "        A.CLASS_VAR = x\n",
    "\n",
    "    @classmethod\n",
    "    def class_foo(cls, x):\n",
    "        print(f\"executing class_foo({cls}, {x})\")\n",
    "        cls.CLASS_VAR = x\n",
    "        return cls(x)\n",
    "\n",
    "    @staticmethod\n",
    "    def static_foo(x):\n",
    "        print(f\"executing static_foo({x})\")\n",
    "        A.CLASS_VAR = x\n",
    "\n",
    "\n",
    "a1 = A(1)\n",
    "a2 = A(2)"
   ]
  },
  {
   "cell_type": "markdown",
   "id": "0da5f302-e324-4a52-99d7-195b2b6173a9",
   "metadata": {
    "slideshow": {
     "slide_type": "subslide"
    },
    "tags": []
   },
   "source": [
    "Normal methods can only be called via instance of a class. If you want to call it via class, you need to pass the instance manually as first parameter."
   ]
  },
  {
   "cell_type": "code",
   "execution_count": 11,
   "id": "19680492-7797-49f2-a9d6-2e3ed63d094c",
   "metadata": {
    "slideshow": {
     "slide_type": "fragment"
    },
    "tags": [
     "raises-exception"
    ]
   },
   "outputs": [
    {
     "ename": "TypeError",
     "evalue": "foo() missing 1 required positional argument: 'x'",
     "output_type": "error",
     "traceback": [
      "\u001b[1;31m---------------------------------------------------------------------------\u001b[0m",
      "\u001b[1;31mTypeError\u001b[0m                                 Traceback (most recent call last)",
      "Cell \u001b[1;32mIn[11], line 1\u001b[0m\n\u001b[1;32m----> 1\u001b[0m \u001b[43mA\u001b[49m\u001b[38;5;241;43m.\u001b[39;49m\u001b[43mfoo\u001b[49m\u001b[43m(\u001b[49m\u001b[38;5;241;43m3\u001b[39;49m\u001b[43m)\u001b[49m\n",
      "\u001b[1;31mTypeError\u001b[0m: foo() missing 1 required positional argument: 'x'"
     ]
    }
   ],
   "source": [
    "A.foo(3)"
   ]
  },
  {
   "cell_type": "code",
   "execution_count": 12,
   "id": "c14df1c3-f3b8-4bd4-abfa-78b57a2d31ba",
   "metadata": {
    "slideshow": {
     "slide_type": "fragment"
    },
    "tags": []
   },
   "outputs": [
    {
     "name": "stdout",
     "output_type": "stream",
     "text": [
      "executing foo(<__main__.A object at 0x0000015A37E52100>, 3)\n",
      "a1.CLASS_VAR = 3\n",
      "a1.instance_var = 3\n",
      "a2.CLASS_VAR = 3\n",
      "a2.instance_var = 2\n"
     ]
    }
   ],
   "source": [
    "A.foo(a1, 3)\n",
    "\n",
    "print(f\"{a1.CLASS_VAR = }\")\n",
    "print(f\"{a1.instance_var = }\")\n",
    "\n",
    "print(f\"{a2.CLASS_VAR = }\")\n",
    "print(f\"{a2.instance_var = }\")"
   ]
  },
  {
   "cell_type": "code",
   "execution_count": 13,
   "id": "3d1fe19f-afa1-41ed-a5c7-f4838a439b9d",
   "metadata": {
    "slideshow": {
     "slide_type": "subslide"
    },
    "tags": []
   },
   "outputs": [
    {
     "name": "stdout",
     "output_type": "stream",
     "text": [
      "executing foo(<__main__.A object at 0x0000015A37E521C0>, 4)\n",
      "a1.CLASS_VAR = 4\n",
      "a1.instance_var = 3\n",
      "a2.CLASS_VAR = 4\n",
      "a2.instance_var = 4\n"
     ]
    }
   ],
   "source": [
    "a2.foo(4)\n",
    "\n",
    "print(f\"{a1.CLASS_VAR = }\")\n",
    "print(f\"{a1.instance_var = }\")\n",
    "\n",
    "print(f\"{a2.CLASS_VAR = }\")\n",
    "print(f\"{a2.instance_var = }\")"
   ]
  },
  {
   "cell_type": "markdown",
   "id": "c3906626-9957-4613-85ab-9869668586d5",
   "metadata": {
    "slideshow": {
     "slide_type": "subslide"
    },
    "tags": []
   },
   "source": [
    "Class methods can be called via instance as well as class. But it doesn't have access to the instance variable.\n",
    "\n",
    "Class methods are generally used to define alternate contructor (Returning a new instance of class)."
   ]
  },
  {
   "cell_type": "code",
   "execution_count": 14,
   "id": "0385960c-2da0-4360-a734-339132337dc5",
   "metadata": {
    "slideshow": {
     "slide_type": "fragment"
    },
    "tags": []
   },
   "outputs": [
    {
     "name": "stdout",
     "output_type": "stream",
     "text": [
      "executing class_foo(<class '__main__.A'>, 5)\n",
      "<__main__.A object at 0x0000015A37DC2B50>\n",
      "a3.CLASS_VAR = 5\n",
      "a3.instance_var = 5\n"
     ]
    }
   ],
   "source": [
    "a3 = A.class_foo(5)\n",
    "print(a3)\n",
    "print(f\"{a3.CLASS_VAR = }\")\n",
    "print(f\"{a3.instance_var = }\")"
   ]
  },
  {
   "cell_type": "markdown",
   "id": "b092dd42-9a97-4147-94ec-8baed2290259",
   "metadata": {
    "slideshow": {
     "slide_type": "subslide"
    },
    "tags": []
   },
   "source": [
    "Static methods can be called via instance as well as class. But it doesn't have access to the instance variable.\n",
    "\n",
    "Static methods are used to tie up the helper function to a particular class if they are somehow logically connected.\n",
    "\n",
    "In standard library static methods are also used to decorate methods which were suppose to be private [See [multiprocessing library](https://github.com/python/cpython/blob/main/Lib/multiprocessing/pool.py)]."
   ]
  },
  {
   "cell_type": "code",
   "execution_count": 15,
   "id": "9f076651-921d-4afc-ba3e-8b87f23913aa",
   "metadata": {
    "slideshow": {
     "slide_type": "fragment"
    },
    "tags": []
   },
   "outputs": [
    {
     "name": "stdout",
     "output_type": "stream",
     "text": [
      "executing static_foo(6)\n",
      "a1.CLASS_VAR = 6\n",
      "a1.instance_var = 3\n"
     ]
    }
   ],
   "source": [
    "a1.static_foo(6)\n",
    "print(f\"{a1.CLASS_VAR = }\")\n",
    "print(f\"{a1.instance_var = }\")"
   ]
  },
  {
   "cell_type": "markdown",
   "id": "cc6d7c18-ca87-4fc6-a0bb-ef8bf128456b",
   "metadata": {},
   "source": [
    "**Footnotes:**\n",
    "- The `@property` decorator simplifies the creation of getter, setter, and deleter methods, promoting the use of properties for data encapsulation.\n",
    "- `@classmethod` and `@staticmethod` provide mechanisms for defining methods related to a class as a whole, rather than individual instances, supporting alternative constructors and utility functions.\n",
    "- Decorators are a key feature of Python, enabling developers to extend and modify the behavior of class methods and properties in a clean and readable manner."
   ]
  },
  {
   "cell_type": "markdown",
   "id": "92a3ee81-5910-4458-9df0-c8f713d0c99b",
   "metadata": {},
   "source": [
    "\\[<< [Duck Typing and Goose Typing](./08_duck_typing_and_goose_typing.ipynb) | [Index](./00_index.ipynb) | [Resource Management with Context Managers](./10_resource_management_with_context_managers.ipynb) >>\\]"
   ]
  }
 ],
 "metadata": {
  "kernelspec": {
   "display_name": "Python 3 (ipykernel)",
   "language": "python",
   "name": "python3"
  },
  "language_info": {
   "codemirror_mode": {
    "name": "ipython",
    "version": 3
   },
   "file_extension": ".py",
   "mimetype": "text/x-python",
   "name": "python",
   "nbconvert_exporter": "python",
   "pygments_lexer": "ipython3",
   "version": "3.8.10"
  }
 },
 "nbformat": 4,
 "nbformat_minor": 5
}
