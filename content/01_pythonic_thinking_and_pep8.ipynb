{
 "cells": [
  {
   "cell_type": "markdown",
   "id": "9f2b8520-3633-48ed-930e-da2e1cf7a51c",
   "metadata": {
    "slideshow": {
     "slide_type": "slide"
    },
    "tags": []
   },
   "source": [
    "## Pythonic Thinking and PEP8"
   ]
  },
  {
   "cell_type": "markdown",
   "id": "38202e35-fb04-4989-99ec-94caf097a428",
   "metadata": {
    "slideshow": {
     "slide_type": "fragment"
    },
    "tags": []
   },
   "source": [
    "**Pythonic** code is clean, readable, and efficient code that effectively utilizes the features and conventions of the Python language."
   ]
  },
  {
   "cell_type": "markdown",
   "id": "bbf0c586-f475-4db8-985b-1328de58e77d",
   "metadata": {
    "slideshow": {
     "slide_type": "subslide"
    },
    "tags": []
   },
   "source": [
    "### Zen of Python ([PEP 20](https://peps.python.org/pep-0020/))"
   ]
  },
  {
   "cell_type": "code",
   "execution_count": 1,
   "id": "9e6382ab-1824-4368-9562-540889d02fb5",
   "metadata": {
    "slideshow": {
     "slide_type": "fragment"
    },
    "tags": []
   },
   "outputs": [
    {
     "name": "stdout",
     "output_type": "stream",
     "text": [
      "The Zen of Python, by Tim Peters\n",
      "\n",
      "Beautiful is better than ugly.\n",
      "Explicit is better than implicit.\n",
      "Simple is better than complex.\n",
      "Complex is better than complicated.\n",
      "Flat is better than nested.\n",
      "Sparse is better than dense.\n",
      "Readability counts.\n",
      "Special cases aren't special enough to break the rules.\n",
      "Although practicality beats purity.\n",
      "Errors should never pass silently.\n",
      "Unless explicitly silenced.\n",
      "In the face of ambiguity, refuse the temptation to guess.\n",
      "There should be one-- and preferably only one --obvious way to do it.\n",
      "Although that way may not be obvious at first unless you're Dutch.\n",
      "Now is better than never.\n",
      "Although never is often better than *right* now.\n",
      "If the implementation is hard to explain, it's a bad idea.\n",
      "If the implementation is easy to explain, it may be a good idea.\n",
      "Namespaces are one honking great idea -- let's do more of those!\n"
     ]
    }
   ],
   "source": [
    "import this"
   ]
  },
  {
   "cell_type": "markdown",
   "id": "07bde1ec-05b5-4db6-b52c-a775ca8341e5",
   "metadata": {
    "slideshow": {
     "slide_type": "subslide"
    },
    "tags": []
   },
   "source": [
    "#### Beautiful is better than ugly."
   ]
  },
  {
   "cell_type": "code",
   "execution_count": 2,
   "id": "0f7f9f3b-cf91-406d-8cd1-85b1ebe4c431",
   "metadata": {
    "slideshow": {
     "slide_type": "fragment"
    },
    "tags": []
   },
   "outputs": [],
   "source": [
    "# Good\n",
    "def avg(*args):\n",
    "  s = 0\n",
    "  for n in nums: s += n\n",
    "  return s/len(nums)"
   ]
  },
  {
   "cell_type": "code",
   "execution_count": 3,
   "id": "05db16e6-1071-402c-87f0-bef900f84553",
   "metadata": {
    "slideshow": {
     "slide_type": "fragment"
    },
    "tags": []
   },
   "outputs": [],
   "source": [
    "# Better\n",
    "def calculate_average(*numbers):\n",
    "  total = sum(numbers)\n",
    "  return total/len(numbers)"
   ]
  },
  {
   "cell_type": "markdown",
   "id": "4c47bfcf-e4b8-417e-8baa-d6d77a1affce",
   "metadata": {
    "slideshow": {
     "slide_type": "subslide"
    },
    "tags": []
   },
   "source": [
    "#### Explicit is better than implicit."
   ]
  },
  {
   "cell_type": "markdown",
   "id": "a2c378b8-3255-407b-beed-b1e18376f505",
   "metadata": {
    "slideshow": {
     "slide_type": "fragment"
    },
    "tags": []
   },
   "source": [
    "##### Import Statement"
   ]
  },
  {
   "cell_type": "code",
   "execution_count": 4,
   "id": "8474557c-3718-48c3-9772-7d4377cb979f",
   "metadata": {
    "slideshow": {
     "slide_type": "fragment"
    },
    "tags": [
     "raises-exception"
    ]
   },
   "outputs": [
    {
     "ename": "TypeError",
     "evalue": "write() argument must be str, not bytes",
     "output_type": "error",
     "traceback": [
      "\u001b[1;31m---------------------------------------------------------------------------\u001b[0m",
      "\u001b[1;31mTypeError\u001b[0m                                 Traceback (most recent call last)",
      "Cell \u001b[1;32mIn[4], line 9\u001b[0m\n\u001b[0;32m      6\u001b[0m dic \u001b[38;5;241m=\u001b[39m {\u001b[38;5;124m'\u001b[39m\u001b[38;5;124ma\u001b[39m\u001b[38;5;124m'\u001b[39m: \u001b[38;5;124m'\u001b[39m\u001b[38;5;124mA\u001b[39m\u001b[38;5;124m'\u001b[39m, \u001b[38;5;124m'\u001b[39m\u001b[38;5;124mb\u001b[39m\u001b[38;5;124m'\u001b[39m: \u001b[38;5;124m'\u001b[39m\u001b[38;5;124mB\u001b[39m\u001b[38;5;124m'\u001b[39m}\n\u001b[0;32m      8\u001b[0m \u001b[38;5;28;01mwith\u001b[39;00m \u001b[38;5;28mopen\u001b[39m(\u001b[38;5;124m'\u001b[39m\u001b[38;5;124mdata.json\u001b[39m\u001b[38;5;124m'\u001b[39m, \u001b[38;5;124m'\u001b[39m\u001b[38;5;124mw\u001b[39m\u001b[38;5;124m'\u001b[39m) \u001b[38;5;28;01mas\u001b[39;00m f:\n\u001b[1;32m----> 9\u001b[0m     \u001b[43mf\u001b[49m\u001b[38;5;241;43m.\u001b[39;49m\u001b[43mwrite\u001b[49m\u001b[43m(\u001b[49m\u001b[43mdumps\u001b[49m\u001b[43m(\u001b[49m\u001b[43mdic\u001b[49m\u001b[43m)\u001b[49m\u001b[43m)\u001b[49m  \u001b[38;5;66;03m# => TypeError\u001b[39;00m\n",
      "\u001b[1;31mTypeError\u001b[0m: write() argument must be str, not bytes"
     ]
    }
   ],
   "source": [
    "# Unclear from where dumps is imported`\n",
    "from json import *\n",
    "from pickle import *\n",
    "\n",
    "\n",
    "dic = {'a': 'A', 'b': 'B'}\n",
    "\n",
    "with open('data.json', 'w') as f:\n",
    "    f.write(dumps(dic))  # => TypeError"
   ]
  },
  {
   "cell_type": "code",
   "execution_count": 5,
   "id": "ae869708-770f-4ea6-a41f-df31a613c2cd",
   "metadata": {
    "slideshow": {
     "slide_type": "subslide"
    },
    "tags": []
   },
   "outputs": [],
   "source": [
    "# Explicitly provide name for each dumps\n",
    "from json import dumps as json_dumps\n",
    "from pickle import dumps as pickle_dumps\n",
    "\n",
    "\n",
    "dic = {'a': 'A', 'b': 'B'}\n",
    "\n",
    "with open('data.json', 'w') as f:\n",
    "    f.write(json_dumps(dic))"
   ]
  },
  {
   "cell_type": "markdown",
   "id": "d835b994-63c7-4fac-8838-d2c384fedfca",
   "metadata": {
    "slideshow": {
     "slide_type": "subslide"
    },
    "tags": []
   },
   "source": [
    "##### Function arguments"
   ]
  },
  {
   "cell_type": "code",
   "execution_count": 6,
   "id": "020cabe6-c584-4f43-8295-f664d56c9cab",
   "metadata": {
    "slideshow": {
     "slide_type": "fragment"
    },
    "tags": []
   },
   "outputs": [],
   "source": [
    "# Unclear from the argument what does dimension contains\n",
    "def calculate_area(dimensions):\n",
    "    return dimensions[0] * dimensions[1]"
   ]
  },
  {
   "cell_type": "code",
   "execution_count": 7,
   "id": "e73883cf-47c9-4a49-8a08-44a6e6659a38",
   "metadata": {
    "slideshow": {
     "slide_type": "fragment"
    },
    "tags": []
   },
   "outputs": [],
   "source": [
    "# Explicitely segregate dimension into two component\n",
    "def calculate_area(length, width):\n",
    "    return length * width"
   ]
  },
  {
   "cell_type": "code",
   "execution_count": 8,
   "id": "31687dd9-5271-43b5-81dd-cf100b0bb45a",
   "metadata": {
    "slideshow": {
     "slide_type": "subslide"
    },
    "tags": []
   },
   "outputs": [],
   "source": [
    "# => Less explicit on what the function accepts and returns\n",
    "def add(x, y):\n",
    "    return x + y"
   ]
  },
  {
   "cell_type": "code",
   "execution_count": 9,
   "id": "ac40b7a3-199e-41a4-bf9f-2f745807a3a8",
   "metadata": {
    "slideshow": {
     "slide_type": "fragment"
    },
    "tags": []
   },
   "outputs": [],
   "source": [
    "# => More explicit on what the function accepts and returns\n",
    "def add(x: int, y: int) -> int:\n",
    "    return x + y"
   ]
  },
  {
   "cell_type": "markdown",
   "id": "bf81e17c-6878-4935-947b-0430ffa952b3",
   "metadata": {
    "slideshow": {
     "slide_type": "fragment"
    },
    "tags": []
   },
   "source": [
    "#### Simple is better than complex."
   ]
  },
  {
   "cell_type": "code",
   "execution_count": 10,
   "id": "947a3592-5a2c-447b-ae16-7a792c6c40ab",
   "metadata": {
    "slideshow": {
     "slide_type": "fragment"
    },
    "tags": []
   },
   "outputs": [],
   "source": [
    "# Bad\n",
    "def is_even(num):\n",
    "    return num - (num // 2) * 2 == 0"
   ]
  },
  {
   "cell_type": "code",
   "execution_count": 11,
   "id": "fc4ce4ad-b558-4e8a-8348-1a18d98aaf36",
   "metadata": {
    "slideshow": {
     "slide_type": "fragment"
    },
    "tags": []
   },
   "outputs": [],
   "source": [
    "# Good\n",
    "def is_even(num):\n",
    "    return num % 2 == 0"
   ]
  },
  {
   "cell_type": "markdown",
   "id": "90c5c757-7c02-49cd-8d41-98c0ae5bdccc",
   "metadata": {
    "slideshow": {
     "slide_type": "subslide"
    },
    "tags": []
   },
   "source": [
    "#### Complex is better than complicated."
   ]
  },
  {
   "cell_type": "code",
   "execution_count": 1,
   "id": "f660d981-c5c0-4ac6-9139-25fe50efa62d",
   "metadata": {
    "slideshow": {
     "slide_type": "fragment"
    },
    "tags": []
   },
   "outputs": [],
   "source": [
    "def dot_product_complicated(list1, list2):\n",
    "    dot_product = 0\n",
    "    for i in range(len(list1)):\n",
    "        for j in range(len(list2)):\n",
    "            if i == j:\n",
    "                dot_product += list1[i] * list2[j]\n",
    "    return dot_product\n",
    "\n",
    "def dot_product_complex(list1, list2):\n",
    "    dot_product = 0\n",
    "    for x, y in zip(list1, list2):\n",
    "        dot_product += x * y\n",
    "    return dot_product\n",
    "\n",
    "def dot_product_simple(list1, list2):\n",
    "    return sum(x * y for x, y in zip(list1, list2))"
   ]
  },
  {
   "cell_type": "markdown",
   "id": "7f382ca5-d019-48d3-a0d5-f5331e76aad4",
   "metadata": {
    "slideshow": {
     "slide_type": "subslide"
    },
    "tags": []
   },
   "source": [
    "#### Flat is better than nested."
   ]
  },
  {
   "cell_type": "code",
   "execution_count": 13,
   "id": "d4893a3f-f781-402a-ac40-60dedc0b61ef",
   "metadata": {
    "slideshow": {
     "slide_type": "fragment"
    },
    "tags": []
   },
   "outputs": [],
   "source": [
    "def func(w, x, y, z):\n",
    "    if w > 0:\n",
    "        ...\n",
    "        # some code for w\n",
    "        if x != 0:\n",
    "            ...\n",
    "            # some code for x\n",
    "            if y < 0:\n",
    "                ...\n",
    "                # some code for y\n",
    "                if z > 10:\n",
    "                    ...\n",
    "                    # some code for z\n",
    "                    return w + x + y + z\n",
    "    return None"
   ]
  },
  {
   "cell_type": "code",
   "execution_count": 14,
   "id": "f911d369-e70f-466f-bd84-25bc142723da",
   "metadata": {
    "slideshow": {
     "slide_type": "subslide"
    },
    "tags": []
   },
   "outputs": [],
   "source": [
    "def func(w, x, y, z):\n",
    "    if w <= 0:\n",
    "        return None\n",
    "    ...\n",
    "    # some code for w\n",
    "    \n",
    "    if x == 0:\n",
    "        return None\n",
    "    ...\n",
    "    # some code for x\n",
    "    \n",
    "    if y >= 0:\n",
    "        return None\n",
    "    ...\n",
    "    # some code for y\n",
    "    \n",
    "    if z <= 10:\n",
    "        return None\n",
    "    ...\n",
    "    # some code for z\n",
    "    \n",
    "    return w + x + y + z"
   ]
  },
  {
   "cell_type": "markdown",
   "id": "b8788b87-956f-48d1-adc5-82ae61b2bd3d",
   "metadata": {
    "slideshow": {
     "slide_type": "subslide"
    },
    "tags": []
   },
   "source": [
    "There are other examples we can go through for each statement in `Zen of Python`, but let's keep it at this for now."
   ]
  },
  {
   "cell_type": "markdown",
   "id": "893fc5a3-9a68-4674-b25c-3dbe85a3d43c",
   "metadata": {
    "slideshow": {
     "slide_type": "subslide"
    },
    "tags": []
   },
   "source": [
    "### [PEP 8](https://peps.python.org/pep-0008/)"
   ]
  },
  {
   "cell_type": "markdown",
   "id": "5483e063-f27b-48b0-b11f-2d02f1ab0339",
   "metadata": {
    "slideshow": {
     "slide_type": "fragment"
    },
    "tags": []
   },
   "source": [
    "Example of all PEP 8 rules can be found in this [cheatsheet](https://gist.github.com/RichardBronosky/454964087739a449da04)"
   ]
  },
  {
   "cell_type": "markdown",
   "id": "3ec4e1d4-e775-4227-9305-fa5bb082dd72",
   "metadata": {
    "slideshow": {
     "slide_type": "fragment"
    },
    "tags": []
   },
   "source": [
    "[![](https://img.youtube.com/vi/hgI0p1zf31k/0.jpg)](https://youtu.be/hgI0p1zf31k)"
   ]
  },
  {
   "cell_type": "markdown",
   "id": "959042ef-6edd-4941-b947-b74ccaf49eab",
   "metadata": {
    "slideshow": {
     "slide_type": "fragment"
    },
    "tags": []
   },
   "source": [
    "Most of the guidelines mentioned in PEP 8 are automatically handles using tools like [black](https://github.com/psf/black) and [autopep8](https://github.com/hhatto/autopep8). Some which are missed can be catched using linters like [pycodestyle](https://github.com/PyCQA/pycodestyle), [pylint](https://github.com/pylint-dev/pylint) or [flake8](https://github.com/PyCQA/flake8) with [plugins](https://github.com/DmytroLitvinov/awesome-flake8-extensions)."
   ]
  },
  {
   "cell_type": "code",
   "execution_count": 3,
   "id": "eb4e19c1-9d36-40c5-9a5e-a029f589af8e",
   "metadata": {
    "slideshow": {
     "slide_type": "skip"
    },
    "tags": []
   },
   "outputs": [],
   "source": [
    "%load_ext save_and_exec_magic"
   ]
  },
  {
   "cell_type": "code",
   "execution_count": 4,
   "id": "5d1a4afa-f0e7-481f-8e69-4dece46ad8fb",
   "metadata": {
    "slideshow": {
     "slide_type": "subslide"
    },
    "tags": []
   },
   "outputs": [
    {
     "data": {
      "text/html": [
       "<pre>tmp.py:1:17: E231 missing whitespace after ','\n",
       "tmp.py:1:19: E231 missing whitespace after ','\n",
       "tmp.py:2:5: F841 local variable 'a' is assigned to but never used\n",
       "tmp.py:2:6: E221 multiple spaces before operator\n",
       "tmp.py:3:5: F841 local variable 'b' is assigned to but never used\n",
       "tmp.py:3:6: E225 missing whitespace around operator\n",
       "tmp.py:3:9: W291 trailing whitespace\n",
       "tmp.py:4:9: E225 missing whitespace around operator\n",
       "tmp.py:8:1: W293 blank line contains whitespace\n",
       "tmp.py:9:1: E302 expected 2 blank lines, found 1\n",
       "tmp.py:10:12: F821 undefined name 'mynumber'\n",
       "tmp.py:11:1: W293 blank line contains whitespace\n",
       "tmp.py:12:1: E305 expected 2 blank lines after class or function definition, found 1\n",
       "tmp.py:12:23: W291 trailing whitespace\n",
       "</pre>"
      ],
      "text/plain": [
       "<IPython.core.display.HTML object>"
      ]
     },
     "metadata": {},
     "output_type": "display_data"
    }
   ],
   "source": [
    "%%save_and_run_magic flake8\n",
    "def myFunction(x,y,z):\n",
    "    a  = x + y\n",
    "    b= z   \n",
    "    if x>y:\n",
    "        print(f'{x} is greater than {y}')\n",
    "    else:\n",
    "        print(f'{y} is greater than or equal to {x}')\n",
    "        \n",
    "def square(my_number):\n",
    "    return mynumber ** 2\n",
    "        \n",
    "print(\"Hello, World!\") "
   ]
  },
  {
   "cell_type": "code",
   "execution_count": 5,
   "id": "f055b845-3ba1-475c-8938-d08fab5165b8",
   "metadata": {
    "slideshow": {
     "slide_type": "subslide"
    },
    "tags": []
   },
   "outputs": [
    {
     "name": "stderr",
     "output_type": "stream",
     "text": [
      "reformatted tmp.py\n",
      "\n",
      "All done! \\u2728 \\U0001f370 \\u2728\n",
      "1 file reformatted.\n"
     ]
    }
   ],
   "source": [
    "!black tmp.py"
   ]
  },
  {
   "cell_type": "markdown",
   "id": "a40b08cb-8d27-4c7f-8f83-448f14f94451",
   "metadata": {
    "slideshow": {
     "slide_type": "fragment"
    },
    "tags": []
   },
   "source": [
    "![](./static/code-diff-black-format.png)"
   ]
  },
  {
   "cell_type": "code",
   "execution_count": 6,
   "id": "0dbfc4a0-08a8-429f-be09-9e21083c371c",
   "metadata": {
    "slideshow": {
     "slide_type": "subslide"
    },
    "tags": []
   },
   "outputs": [
    {
     "name": "stdout",
     "output_type": "stream",
     "text": [
      "tmp.py:2:5: F841 local variable 'a' is assigned to but never used\n",
      "tmp.py:3:5: F841 local variable 'b' is assigned to but never used\n",
      "tmp.py:11:12: F821 undefined name 'mynumber'\n"
     ]
    }
   ],
   "source": [
    "!flake8 tmp.py"
   ]
  }
 ],
 "metadata": {
  "kernelspec": {
   "display_name": "Python 3 (ipykernel)",
   "language": "python",
   "name": "python3"
  },
  "language_info": {
   "codemirror_mode": {
    "name": "ipython",
    "version": 3
   },
   "file_extension": ".py",
   "mimetype": "text/x-python",
   "name": "python",
   "nbconvert_exporter": "python",
   "pygments_lexer": "ipython3",
   "version": "3.8.10"
  }
 },
 "nbformat": 4,
 "nbformat_minor": 5
}
