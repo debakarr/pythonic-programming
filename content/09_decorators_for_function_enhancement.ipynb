{
 "cells": [
  {
   "cell_type": "markdown",
   "id": "c7e86137-72d0-4a03-98e0-8ade9f89f9ad",
   "metadata": {},
   "source": [
    "## Decorators for Function Enhancement"
   ]
  },
  {
   "cell_type": "code",
   "execution_count": null,
   "id": "f40cd57c-b69b-4364-bf7a-f91541055a37",
   "metadata": {},
   "outputs": [],
   "source": []
  }
 ],
 "metadata": {
  "kernelspec": {
   "display_name": "Python 3 (ipykernel)",
   "language": "python",
   "name": "python3"
  },
  "language_info": {
   "codemirror_mode": {
    "name": "ipython",
    "version": 3
   },
   "file_extension": ".py",
   "mimetype": "text/x-python",
   "name": "python",
   "nbconvert_exporter": "python",
   "pygments_lexer": "ipython3",
   "version": "3.8.10"
  }
 },
 "nbformat": 4,
 "nbformat_minor": 5
}
