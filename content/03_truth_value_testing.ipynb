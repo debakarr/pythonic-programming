{
 "cells": [
  {
   "cell_type": "markdown",
   "id": "48d49e18-5d26-47a2-b154-666fe51e233a",
   "metadata": {
    "slideshow": {
     "slide_type": "slide"
    },
    "tags": []
   },
   "source": [
    "\\[<< [String Formatting and Docstrings](./02_string_formatting_and_docstrings.ipynb) | [Index](./00_index.ipynb) | [Comprehensions and Pythonic Loops](./04_comprehensions_and_pythonic_loops.ipynb) >>\\]"
   ]
  },
  {
   "cell_type": "markdown",
   "id": "6db18444-0179-426e-91a3-5413620b91bc",
   "metadata": {
    "slideshow": {
     "slide_type": "slide"
    },
    "tags": []
   },
   "source": [
    "## Truth Value Testing"
   ]
  },
  {
   "cell_type": "markdown",
   "id": "4e95d18c-c28a-425d-9bb1-ecaf2f43e27d",
   "metadata": {
    "slideshow": {
     "slide_type": "fragment"
    },
    "tags": []
   },
   "source": [
    "Python's concept of truth and falseness doesn't only depends on boolean. In fact anything which is considered empty is interpreted as false. That includes `None`, `0`, `0j`, empty list, empty tuple etc."
   ]
  },
  {
   "cell_type": "code",
   "execution_count": 1,
   "id": "63560782-998f-4f5e-b74d-5e8f2a3dda30",
   "metadata": {
    "slideshow": {
     "slide_type": "fragment"
    },
    "tags": []
   },
   "outputs": [],
   "source": [
    "users = []\n",
    "\n",
    "# So instead of writing\n",
    "if len(users) == 0:\n",
    "    ..."
   ]
  },
  {
   "cell_type": "code",
   "execution_count": 2,
   "id": "a8b4eb1c-183f-420e-96c8-5792d94a99b7",
   "metadata": {
    "slideshow": {
     "slide_type": "fragment"
    },
    "tags": []
   },
   "outputs": [],
   "source": [
    "# More Pythonic is\n",
    "if not users:\n",
    "    ..."
   ]
  },
  {
   "cell_type": "markdown",
   "id": "9e969200-651b-4343-b54a-c3ffd56cf519",
   "metadata": {
    "slideshow": {
     "slide_type": "fragment"
    },
    "tags": []
   },
   "source": [
    "**NOTE**: The second one is less explicit but more Pythonic."
   ]
  },
  {
   "cell_type": "markdown",
   "id": "527cdcf5-8ac4-49fb-b59a-4f0ceba62255",
   "metadata": {
    "slideshow": {
     "slide_type": "subslide"
    },
    "tags": []
   },
   "source": [
    "You can also mimic truth evaluation by implementing `__len__()` or `__bool__()` method for your custom class."
   ]
  },
  {
   "cell_type": "code",
   "execution_count": 3,
   "id": "138bb54c-9bcf-4744-9243-ed0c8fbb3652",
   "metadata": {
    "slideshow": {
     "slide_type": "fragment"
    },
    "tags": []
   },
   "outputs": [],
   "source": [
    "class Glass:\n",
    "    def __init__(self, capacity):\n",
    "        self.capacity = capacity\n",
    "        self.current_level = 0\n",
    "\n",
    "    def fill(self, amount):\n",
    "        if self.current_level + amount <= self.capacity:\n",
    "            self.current_level += amount\n",
    "        else:\n",
    "            self.current_level = self.capacity\n",
    "            print(\"Glass is now full.\")\n",
    "\n",
    "    def pour(self, amount):\n",
    "        if self.current_level - amount >= 0:\n",
    "            self.current_level -= amount\n",
    "        else:\n",
    "            self.current_level = 0\n",
    "            print(\"Glass is now empty.\")\n",
    "\n",
    "    def get_current_level(self):\n",
    "        return self.current_level\n",
    "\n",
    "    def __len__(self):\n",
    "        return self.current_level"
   ]
  },
  {
   "cell_type": "code",
   "execution_count": 4,
   "id": "64e8dd06-bca8-4f1c-b264-f5001c9e1fd0",
   "metadata": {
    "slideshow": {
     "slide_type": "subslide"
    },
    "tags": []
   },
   "outputs": [
    {
     "name": "stdout",
     "output_type": "stream",
     "text": [
      "Intially: bool(glass) = False\n",
      "Adding 50 ml of water\n",
      "After fill: bool(glass) = True\n",
      "Pouring 50 ml of water\n",
      "After pour: bool(glass) = False\n"
     ]
    }
   ],
   "source": [
    "glass = Glass(250)\n",
    "\n",
    "print(f\"Intially: {bool(glass) = }\")\n",
    "print(f\"Adding 50 ml of water\")\n",
    "glass.fill(50)\n",
    "print(f\"After fill: {bool(glass) = }\")\n",
    "print(f\"Pouring 50 ml of water\")\n",
    "glass.pour(50)\n",
    "print(f\"After pour: {bool(glass) = }\")"
   ]
  },
  {
   "cell_type": "markdown",
   "id": "f1265b03-3948-4f03-b3cb-762f6fa71b13",
   "metadata": {
    "slideshow": {
     "slide_type": "subslide"
    },
    "tags": []
   },
   "source": [
    "#### Many built-in libraries already return object which used in if statement for truth check"
   ]
  },
  {
   "cell_type": "markdown",
   "id": "3a11ebb2-6d96-4ec4-9b90-c8cfc5a6ea36",
   "metadata": {
    "slideshow": {
     "slide_type": "fragment"
    },
    "tags": []
   },
   "source": [
    "This is so common that some of the built-in language feature are more Pythonic if they are used with truth value in mind."
   ]
  },
  {
   "cell_type": "code",
   "execution_count": 5,
   "id": "0f4cda3c-8490-40fb-a1f4-ae433db837ff",
   "metadata": {
    "slideshow": {
     "slide_type": "fragment"
    },
    "tags": []
   },
   "outputs": [
    {
     "name": "stdout",
     "output_type": "stream",
     "text": [
      "Match found: example\n"
     ]
    }
   ],
   "source": [
    "import re\n",
    "\n",
    "\n",
    "text = \"This is a sample text with a word 'example' in it.\"\n",
    "\n",
    "if match := re.search(\n",
    "    r\"example\", text\n",
    "):  # Notice how we are not doing `re.search(r\"example\", text) == True`\n",
    "    print(\"Match found:\", match.group())\n",
    "else:\n",
    "    print(\"No match found\")"
   ]
  },
  {
   "cell_type": "markdown",
   "id": "273ab121-ad1f-4525-92f7-17c5c2d97ca2",
   "metadata": {
    "slideshow": {
     "slide_type": "subslide"
    },
    "tags": []
   },
   "source": [
    "#### `all` and `any`\n",
    "\n",
    "`all(iterable)`\n",
    "Returns True if there are no falsy elements in the iterable; all([]) returns True.\n",
    "\n",
    "`any(iterable)`\n",
    "Returns True if any element of the iterable is truthy; any([]) returns False."
   ]
  },
  {
   "cell_type": "markdown",
   "id": "b867dd12-7536-432a-b8f7-80414c6b9bb7",
   "metadata": {
    "slideshow": {
     "slide_type": "fragment"
    },
    "tags": []
   },
   "source": [
    "When to use? When you have something like:\n",
    "\n",
    "```python\n",
    "everything_fine = True\n",
    "for item in iterable:\n",
    "    if not condition(item):\n",
    "        everything_fine = False\n",
    "        break\n",
    "```\n",
    "\n",
    "or\n",
    "\n",
    "```python\n",
    "something_wrong = False\n",
    "for item in iterable:\n",
    "    if condition(item):\n",
    "        something_wrong = True\n",
    "        break\n",
    "```"
   ]
  },
  {
   "cell_type": "code",
   "execution_count": 6,
   "id": "087f9f8e-32c4-4453-a492-70bc275c8476",
   "metadata": {
    "slideshow": {
     "slide_type": "subslide"
    },
    "tags": []
   },
   "outputs": [],
   "source": [
    "ratings = [1, 3, 4, -1, 5, 4, 2]"
   ]
  },
  {
   "cell_type": "code",
   "execution_count": 7,
   "id": "6733802c-5716-4205-8dfe-38cf59a3df07",
   "metadata": {
    "slideshow": {
     "slide_type": "fragment"
    },
    "tags": []
   },
   "outputs": [],
   "source": [
    "# OK\n",
    "def ensure_valid_ok_version(ratings):\n",
    "    for rating in ratings:\n",
    "        if not (0 <= rating <= 5):\n",
    "            return False\n",
    "    return True"
   ]
  },
  {
   "cell_type": "code",
   "execution_count": 8,
   "id": "47bd938f-f15b-402f-af37-47a0c329682e",
   "metadata": {
    "slideshow": {
     "slide_type": "fragment"
    },
    "tags": []
   },
   "outputs": [
    {
     "data": {
      "text/plain": [
       "False"
      ]
     },
     "execution_count": 8,
     "metadata": {},
     "output_type": "execute_result"
    }
   ],
   "source": [
    "ensure_valid_ok_version(ratings)"
   ]
  },
  {
   "cell_type": "code",
   "execution_count": 9,
   "id": "c9e391d6-1740-4426-b56f-32e7e03794de",
   "metadata": {
    "slideshow": {
     "slide_type": "fragment"
    },
    "tags": []
   },
   "outputs": [],
   "source": [
    "# More Pythonic\n",
    "def ensure_valid_pythonic_version(ratings):\n",
    "    return all(0 <= rating <= 5 for rating in ratings)"
   ]
  },
  {
   "cell_type": "code",
   "execution_count": 10,
   "id": "9dc5b4cb-3992-4ade-9ecf-dc86c90c2db3",
   "metadata": {
    "slideshow": {
     "slide_type": "fragment"
    },
    "tags": []
   },
   "outputs": [
    {
     "data": {
      "text/plain": [
       "False"
      ]
     },
     "execution_count": 10,
     "metadata": {},
     "output_type": "execute_result"
    }
   ],
   "source": [
    "ensure_valid_pythonic_version(ratings)"
   ]
  },
  {
   "cell_type": "markdown",
   "id": "f19cd62e-c13f-4c70-b6b2-428c4de898cd",
   "metadata": {
    "slideshow": {
     "slide_type": "subslide"
    },
    "tags": []
   },
   "source": [
    "Even things like [context manager behave differently depending on the truth value of `__exit__()` method](https://github.com/debakarr/intermediate-python/blob/main/content/07_context_managers.ipynb).\n"
   ]
  },
  {
   "cell_type": "markdown",
   "id": "2f8c56f8-cfe3-4dbe-9e50-19ca5ae32b28",
   "metadata": {
    "slideshow": {
     "slide_type": "subslide"
    },
    "tags": []
   },
   "source": [
    "**When used with `or` Python will evaluate the statement into first Truth value**"
   ]
  },
  {
   "cell_type": "code",
   "execution_count": 11,
   "id": "f157626f-ff06-432a-9896-ebbfc7856fb7",
   "metadata": {
    "slideshow": {
     "slide_type": "fragment"
    },
    "tags": []
   },
   "outputs": [
    {
     "data": {
      "text/plain": [
       "365"
      ]
     },
     "execution_count": 11,
     "metadata": {},
     "output_type": "execute_result"
    }
   ],
   "source": [
    "x, y = 0, 365\n",
    "\n",
    "x or y"
   ]
  },
  {
   "cell_type": "markdown",
   "id": "e159059b-5952-415d-9d43-e59c4d9b3b73",
   "metadata": {
    "slideshow": {
     "slide_type": "subslide"
    },
    "tags": []
   },
   "source": [
    "In C++ you might have seen code like this:\n",
    "```c++\n",
    "if(!pFoo) { pFoo = std::make_unique<Foo>(); }\n",
    "```"
   ]
  },
  {
   "cell_type": "code",
   "execution_count": 12,
   "id": "c601307d-9b87-4d90-b963-438fba48f18c",
   "metadata": {
    "slideshow": {
     "slide_type": "fragment"
    },
    "tags": []
   },
   "outputs": [
    {
     "data": {
      "text/plain": [
       "Ellipsis"
      ]
     },
     "execution_count": 12,
     "metadata": {},
     "output_type": "execute_result"
    }
   ],
   "source": [
    "# Python equivalent may looks like this\n",
    "class Foo:\n",
    "    ...\n",
    "\n",
    "\n",
    "foo = None\n",
    "..."
   ]
  },
  {
   "cell_type": "code",
   "execution_count": 13,
   "id": "93c5d390-31a5-48d2-aee4-2a5ca1087dfe",
   "metadata": {
    "slideshow": {
     "slide_type": "fragment"
    },
    "tags": []
   },
   "outputs": [],
   "source": [
    "# This one works fine\n",
    "if foo is None:\n",
    "    foo = Foo()"
   ]
  },
  {
   "cell_type": "code",
   "execution_count": 14,
   "id": "be01280d-6186-4cc5-ab7e-d4f5af010ebb",
   "metadata": {
    "slideshow": {
     "slide_type": "fragment"
    },
    "tags": []
   },
   "outputs": [],
   "source": [
    "# More Pythonic\n",
    "foo = foo or Foo()"
   ]
  },
  {
   "cell_type": "markdown",
   "id": "94dc3c14-9af6-40f4-9ed1-9d175f803a5e",
   "metadata": {},
   "source": [
    "\\[<< [String Formatting and Docstrings](./02_string_formatting_and_docstrings.ipynb) | [Index](./00_index.ipynb) | [Comprehensions and Pythonic Loops](./04_comprehensions_and_pythonic_loops.ipynb) >>\\]"
   ]
  }
 ],
 "metadata": {
  "kernelspec": {
   "display_name": "Python 3 (ipykernel)",
   "language": "python",
   "name": "python3"
  },
  "language_info": {
   "codemirror_mode": {
    "name": "ipython",
    "version": 3
   },
   "file_extension": ".py",
   "mimetype": "text/x-python",
   "name": "python",
   "nbconvert_exporter": "python",
   "pygments_lexer": "ipython3",
   "version": "3.8.10"
  }
 },
 "nbformat": 4,
 "nbformat_minor": 5
}
