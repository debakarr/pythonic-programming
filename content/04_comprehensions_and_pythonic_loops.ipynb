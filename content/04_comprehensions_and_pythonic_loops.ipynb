{
 "cells": [
  {
   "cell_type": "markdown",
   "id": "54932976-10f2-4974-ab76-7cf42546141a",
   "metadata": {
    "slideshow": {
     "slide_type": "slide"
    },
    "tags": []
   },
   "source": [
    "\\[<< [Truth Value Testing](./03_truth_value_testing.ipynb) | [Index](./00_index.ipynb) | [Generators and Lazy Evaluation](./05_generators_and_lazy_evaluation.ipynb) >>\\]"
   ]
  },
  {
   "cell_type": "markdown",
   "id": "4dce95c4-de16-4cce-bd96-80cd64cf3752",
   "metadata": {
    "slideshow": {
     "slide_type": "slide"
    },
    "tags": []
   },
   "source": [
    "## Pythonic Loops and Comprehensions"
   ]
  },
  {
   "cell_type": "markdown",
   "id": "905204a5-3957-4906-b184-c5a44ca0c62d",
   "metadata": {
    "slideshow": {
     "slide_type": "slide"
    },
    "tags": []
   },
   "source": [
    "### Pythonic Loop"
   ]
  },
  {
   "cell_type": "markdown",
   "id": "20eebd60-2340-4b83-9af5-9b70e952cdb2",
   "metadata": {
    "slideshow": {
     "slide_type": "subslide"
    },
    "tags": []
   },
   "source": [
    "#### Python for loop works as a for-each loop"
   ]
  },
  {
   "cell_type": "code",
   "execution_count": 1,
   "id": "ded54958-7b2c-4b9e-960f-385b67479781",
   "metadata": {
    "slideshow": {
     "slide_type": "fragment"
    },
    "tags": []
   },
   "outputs": [],
   "source": [
    "fruits = [\"apple\", \"banana\", \"cherry\", \"date\", \"elderberry\"]"
   ]
  },
  {
   "cell_type": "code",
   "execution_count": 2,
   "id": "5e6054b7-24b4-4b01-8c63-acdb1a1b6253",
   "metadata": {
    "slideshow": {
     "slide_type": "fragment"
    },
    "tags": []
   },
   "outputs": [
    {
     "name": "stdout",
     "output_type": "stream",
     "text": [
      "apple\n",
      "banana\n",
      "cherry\n",
      "date\n",
      "elderberry\n"
     ]
    }
   ],
   "source": [
    "# Good\n",
    "for index in range(len(fruits)):\n",
    "    print(fruits[index])"
   ]
  },
  {
   "cell_type": "code",
   "execution_count": 3,
   "id": "adf9c587-3a02-43dc-9554-aa8361c837a8",
   "metadata": {
    "slideshow": {
     "slide_type": "fragment"
    },
    "tags": []
   },
   "outputs": [
    {
     "name": "stdout",
     "output_type": "stream",
     "text": [
      "apple\n",
      "banana\n",
      "cherry\n",
      "date\n",
      "elderberry\n"
     ]
    }
   ],
   "source": [
    "# More Pythonic\n",
    "for fruit in fruits:\n",
    "    print(fruit)"
   ]
  },
  {
   "cell_type": "markdown",
   "id": "0fe972eb-8d0a-4c9a-9109-82752d8c8fbe",
   "metadata": {
    "slideshow": {
     "slide_type": "subslide"
    },
    "tags": []
   },
   "source": [
    "#### In case you want index use `enumerate`"
   ]
  },
  {
   "cell_type": "code",
   "execution_count": 4,
   "id": "f56778f3-202c-4c20-b988-9754bbd34684",
   "metadata": {
    "slideshow": {
     "slide_type": "fragment"
    },
    "tags": []
   },
   "outputs": [
    {
     "name": "stdout",
     "output_type": "stream",
     "text": [
      "1 apple\n",
      "2 banana\n",
      "3 cherry\n",
      "4 date\n",
      "5 elderberry\n"
     ]
    }
   ],
   "source": [
    "for index, fruit in enumerate(fruits, start=1):\n",
    "    print(index, fruit)"
   ]
  },
  {
   "cell_type": "markdown",
   "id": "4680b4df-34e2-490d-b96a-0ff01f27f16a",
   "metadata": {
    "slideshow": {
     "slide_type": "subslide"
    },
    "tags": []
   },
   "source": [
    "#### Use `zip()` when you have to loop through multiple list at once"
   ]
  },
  {
   "cell_type": "code",
   "execution_count": 5,
   "id": "29a14e21-c206-418c-a736-542862493d2d",
   "metadata": {
    "slideshow": {
     "slide_type": "fragment"
    },
    "tags": []
   },
   "outputs": [],
   "source": [
    "fruits = [\"apple\", \"banana\", \"cherry\", \"date\", \"elderberry\"]\n",
    "colors = [\"red\", \"yellow\", \"red\", \"brown\", \"purple\"]"
   ]
  },
  {
   "cell_type": "code",
   "execution_count": 6,
   "id": "33a60250-0e97-4d47-adf8-3a448d35565d",
   "metadata": {
    "slideshow": {
     "slide_type": "fragment"
    },
    "tags": []
   },
   "outputs": [
    {
     "name": "stdout",
     "output_type": "stream",
     "text": [
      "red apple\n",
      "yellow banana\n",
      "red cherry\n",
      "brown date\n",
      "purple elderberry\n"
     ]
    }
   ],
   "source": [
    "# OK\n",
    "n = min(len(fruits), len(colors))\n",
    "for i in range(n):\n",
    "    print(colors[i], fruits[i])"
   ]
  },
  {
   "cell_type": "code",
   "execution_count": 7,
   "id": "c44f6e52-caaa-4940-8ce0-0b8a12b7e262",
   "metadata": {
    "slideshow": {
     "slide_type": "fragment"
    },
    "tags": []
   },
   "outputs": [
    {
     "name": "stdout",
     "output_type": "stream",
     "text": [
      "red apple\n",
      "yellow banana\n",
      "red cherry\n",
      "brown date\n",
      "purple elderberry\n"
     ]
    }
   ],
   "source": [
    "# More Pythonic\n",
    "for color, fruit in zip(colors, fruits):\n",
    "    print(color, fruit)"
   ]
  },
  {
   "cell_type": "markdown",
   "id": "378ea618-5759-44b1-847c-aa04963d969a",
   "metadata": {
    "slideshow": {
     "slide_type": "subslide"
    },
    "tags": []
   },
   "source": [
    "##### `zip` can also be used to transpose matrix"
   ]
  },
  {
   "cell_type": "code",
   "execution_count": 8,
   "id": "fa866dc8-0289-43d7-8ea1-50fbd16776ad",
   "metadata": {
    "slideshow": {
     "slide_type": "fragment"
    },
    "tags": []
   },
   "outputs": [
    {
     "name": "stdout",
     "output_type": "stream",
     "text": [
      "matrix = [(1, 2, 3), (4, 5, 6)]\n",
      "matrix_transpose = [(1, 4), (2, 5), (3, 6)]\n"
     ]
    }
   ],
   "source": [
    "# Original Matrix\n",
    "# [\n",
    "#     (1, 2, 3),\n",
    "#     (4, 5, 6),\n",
    "# ]\n",
    "# Matrix Transpose\n",
    "# [\n",
    "#     (1, 4),\n",
    "#     (2, 5),\n",
    "#     (3, 6),\n",
    "# ]\n",
    "\n",
    "matrix = [(1, 2, 3), (4, 5, 6)]\n",
    "matrix_transpose = list(zip(*matrix))\n",
    "\n",
    "import pprint\n",
    "\n",
    "print(f\"{matrix = }\")\n",
    "print(f\"{matrix_transpose = }\")"
   ]
  },
  {
   "cell_type": "markdown",
   "id": "39272202-cdef-466e-b677-53fbf8eb1368",
   "metadata": {
    "slideshow": {
     "slide_type": "subslide"
    },
    "tags": []
   },
   "source": [
    "#### Use `reversed` to loop the items in reversed order"
   ]
  },
  {
   "cell_type": "code",
   "execution_count": 9,
   "id": "e94d5f1a-a7df-4a43-8996-e7fa48083910",
   "metadata": {
    "slideshow": {
     "slide_type": "fragment"
    },
    "tags": []
   },
   "outputs": [
    {
     "name": "stdout",
     "output_type": "stream",
     "text": [
      "elderberry\n",
      "date\n",
      "cherry\n",
      "banana\n",
      "apple\n"
     ]
    }
   ],
   "source": [
    "# Good\n",
    "for index in range(len(fruits) - 1, -1, -1):\n",
    "    print(fruits[index])"
   ]
  },
  {
   "cell_type": "code",
   "execution_count": 10,
   "id": "daa9e6d9-85a5-4fed-8bcd-eff9093947e1",
   "metadata": {
    "slideshow": {
     "slide_type": "fragment"
    },
    "tags": []
   },
   "outputs": [
    {
     "name": "stdout",
     "output_type": "stream",
     "text": [
      "elderberry\n",
      "date\n",
      "cherry\n",
      "banana\n",
      "apple\n"
     ]
    }
   ],
   "source": [
    "# More Pythonic\n",
    "for fruit in reversed(fruits):\n",
    "    print(fruit)"
   ]
  },
  {
   "cell_type": "markdown",
   "id": "30b3e0bd-f6cf-4ef2-8885-7c73f1a13776",
   "metadata": {
    "slideshow": {
     "slide_type": "subslide"
    },
    "tags": []
   },
   "source": [
    "#### Use `sorted()` with the key to loop list with sorting applied as per your need"
   ]
  },
  {
   "cell_type": "code",
   "execution_count": 11,
   "id": "fea832d4-afce-4aa3-9004-45acfcd2d7d1",
   "metadata": {
    "slideshow": {
     "slide_type": "fragment"
    },
    "tags": []
   },
   "outputs": [
    {
     "name": "stdout",
     "output_type": "stream",
     "text": [
      "date\n",
      "apple\n",
      "banana\n",
      "cherry\n",
      "elderberry\n"
     ]
    }
   ],
   "source": [
    "for fruit in sorted(fruits, key=len):\n",
    "    print(fruit)"
   ]
  },
  {
   "cell_type": "markdown",
   "id": "ebfb7705-2521-4e6a-9921-4fc1871d6a72",
   "metadata": {
    "slideshow": {
     "slide_type": "subslide"
    },
    "tags": []
   },
   "source": [
    "#### Read until certain character"
   ]
  },
  {
   "cell_type": "code",
   "execution_count": 12,
   "id": "0d4034bc-57bb-4040-b544-b598e3224355",
   "metadata": {
    "slideshow": {
     "slide_type": "fragment"
    },
    "tags": []
   },
   "outputs": [
    {
     "name": "stdout",
     "output_type": "stream",
     "text": [
      "CR+PENDING();CR+PENDING();CR+PENDING();\n"
     ]
    }
   ],
   "source": [
    "# Good\n",
    "def read_until_character(filename, character):\n",
    "    with open(filename, \"r\") as file:\n",
    "        content = \"\"\n",
    "        while True:\n",
    "            char = file.read(1)\n",
    "            if char == character:\n",
    "                break\n",
    "            content += char\n",
    "    return content\n",
    "\n",
    "\n",
    "content = read_until_character(\"static/serial-out.txt\", \"#\")\n",
    "print(content)"
   ]
  },
  {
   "cell_type": "code",
   "execution_count": 13,
   "id": "8c3918ef-6ac1-4cea-9d73-fb3c2d7fc9e9",
   "metadata": {
    "slideshow": {
     "slide_type": "subslide"
    },
    "tags": []
   },
   "outputs": [
    {
     "name": "stdout",
     "output_type": "stream",
     "text": [
      "CR+PENDING();CR+PENDING();CR+PENDING();\n"
     ]
    }
   ],
   "source": [
    "# Pythonic\n",
    "from functools import partial\n",
    "\n",
    "\n",
    "def read_until_character(filename, character):\n",
    "    with open(filename, \"r\") as file:\n",
    "        content = \"\"\n",
    "        for char in iter(partial(file.read, 1), character):\n",
    "            content += char\n",
    "    return content\n",
    "\n",
    "\n",
    "content = read_until_character(\"static/serial-out.txt\", \"#\")\n",
    "print(content)"
   ]
  },
  {
   "cell_type": "markdown",
   "id": "a72caab9-c46e-4c4c-9b1e-c21cd60df791",
   "metadata": {
    "slideshow": {
     "slide_type": "subslide"
    },
    "tags": []
   },
   "source": [
    "#### Discard dummy variables"
   ]
  },
  {
   "cell_type": "code",
   "execution_count": 14,
   "id": "04b1135a-76ce-48b4-bf19-78540d18ce5d",
   "metadata": {
    "slideshow": {
     "slide_type": "fragment"
    },
    "tags": []
   },
   "outputs": [
    {
     "name": "stdout",
     "output_type": "stream",
     "text": [
      "Doing something\n",
      "Doing something\n",
      "Doing something\n",
      "Doing something\n"
     ]
    }
   ],
   "source": [
    "# OK\n",
    "for i in range(4):\n",
    "    print(f\"Doing something\")"
   ]
  },
  {
   "cell_type": "code",
   "execution_count": 15,
   "id": "73ade6d1-9669-4508-a6d4-0762b1faf2f6",
   "metadata": {
    "slideshow": {
     "slide_type": "fragment"
    },
    "tags": []
   },
   "outputs": [
    {
     "name": "stdout",
     "output_type": "stream",
     "text": [
      "Doing something\n",
      "Doing something\n",
      "Doing something\n",
      "Doing something\n"
     ]
    }
   ],
   "source": [
    "# Pythonic\n",
    "for _ in range(4):\n",
    "    print(f\"Doing something\")"
   ]
  },
  {
   "cell_type": "markdown",
   "id": "799ef748-2e0c-4104-878d-f5b240d2e074",
   "metadata": {
    "slideshow": {
     "slide_type": "slide"
    },
    "tags": []
   },
   "source": [
    "### Comprehension"
   ]
  },
  {
   "cell_type": "markdown",
   "id": "06f8a19e-2077-408f-b5dc-d207860bf6fa",
   "metadata": {
    "slideshow": {
     "slide_type": "subslide"
    },
    "tags": []
   },
   "source": [
    "For example we will use the **/etc/passwd** file in linux which contains details for all the users."
   ]
  },
  {
   "cell_type": "code",
   "execution_count": 16,
   "id": "823913aa-2e66-490e-8168-39735d011bf0",
   "metadata": {
    "slideshow": {
     "slide_type": "fragment"
    },
    "tags": []
   },
   "outputs": [
    {
     "name": "stdout",
     "output_type": "stream",
     "text": [
      "# demo content from /etc/passwd file\n",
      "root:x:0:0:root:/root:/bin/bash\n",
      "daemon:x:1:1:daemon:/usr/sbin:/usr/sbin/nologin\n",
      "bin:x:2:2:bin:/bin:/usr/sbin/nologin\n",
      "sys:x:3:3:sys:/dev:/usr/sbin/nologin\n",
      "sync:x:4:65534:sync:/bin:/bin/sync\n",
      "games:x:5:60:games:/usr/games:/usr/sbin/nologin\n",
      "man:x:6:12:man:/var/cache/man:/usr/sbin/nologin\n",
      "lp:x:7:7:lp:/var/spool/lpd:/usr/sbin/nologin\n",
      "mail:x:8:8:mail:/var/mail:/usr/sbin/nologin\n"
     ]
    }
   ],
   "source": [
    "!head static/linux-etc-passwd"
   ]
  },
  {
   "cell_type": "markdown",
   "id": "65dcd024-91c1-414c-b503-a130bf26f094",
   "metadata": {
    "slideshow": {
     "slide_type": "subslide"
    },
    "tags": []
   },
   "source": [
    "#### Get all the users"
   ]
  },
  {
   "cell_type": "code",
   "execution_count": 17,
   "id": "3e00ff40-d2de-449e-b4ca-aba6b2c599d0",
   "metadata": {
    "slideshow": {
     "slide_type": "fragment"
    },
    "tags": []
   },
   "outputs": [
    {
     "name": "stdout",
     "output_type": "stream",
     "text": [
      "['root', 'daemon', 'bin', 'sys', 'sync', 'games', 'man', 'lp', 'mail', 'news', 'uucp', 'proxy', 'www-data', 'backup', 'list', 'irc', 'gnats', 'nobody', 'systemd-network', 'systemd-resolve', 'messagebus', 'systemd-timesync', 'syslog', '_apt', 'uuidd', 'tcpdump', 'debakarr']\n"
     ]
    }
   ],
   "source": [
    "# OK\n",
    "users = []\n",
    "\n",
    "with open(\"static/linux-etc-passwd\") as f:\n",
    "    for line in f:\n",
    "        if \":\" in line:\n",
    "            user = line.split(\":\")[0]\n",
    "            users.append(user)\n",
    "\n",
    "print(users)"
   ]
  },
  {
   "cell_type": "code",
   "execution_count": 18,
   "id": "027e4cfc-24fe-48cb-9078-fc1b8f0d2f79",
   "metadata": {
    "slideshow": {
     "slide_type": "fragment"
    },
    "tags": []
   },
   "outputs": [
    {
     "name": "stdout",
     "output_type": "stream",
     "text": [
      "['root', 'daemon', 'bin', 'sys', 'sync', 'games', 'man', 'lp', 'mail', 'news', 'uucp', 'proxy', 'www-data', 'backup', 'list', 'irc', 'gnats', 'nobody', 'systemd-network', 'systemd-resolve', 'messagebus', 'systemd-timesync', 'syslog', '_apt', 'uuidd', 'tcpdump', 'debakarr']\n"
     ]
    }
   ],
   "source": [
    "# More Pythonic\n",
    "users = [\n",
    "    line.split(\":\")[0]\n",
    "    for line in open(\"static/linux-etc-passwd\")\n",
    "    if \":\" in line\n",
    "]\n",
    "print(users)"
   ]
  },
  {
   "cell_type": "markdown",
   "id": "a2cb23fe-aef1-403d-9e90-e65ec272848d",
   "metadata": {
    "slideshow": {
     "slide_type": "subslide"
    },
    "tags": []
   },
   "source": [
    "#### Get unique shell"
   ]
  },
  {
   "cell_type": "code",
   "execution_count": 19,
   "id": "7ae2bac4-336b-4b7b-9d30-5098f8f90ca1",
   "metadata": {
    "slideshow": {
     "slide_type": "fragment"
    },
    "tags": []
   },
   "outputs": [
    {
     "name": "stdout",
     "output_type": "stream",
     "text": [
      "{'/bin/bash', '/usr/sbin/nologin', '/bin/sync'}\n"
     ]
    }
   ],
   "source": [
    "# OK\n",
    "shells = set()\n",
    "\n",
    "with open(\"static/linux-etc-passwd\") as f:\n",
    "    for line in f:\n",
    "        if \":\" in line:\n",
    "            shell = line.split(\":\")[-1].strip()\n",
    "            shells.add(shell)\n",
    "\n",
    "print(shells)"
   ]
  },
  {
   "cell_type": "code",
   "execution_count": 20,
   "id": "15bb77c8-02c1-452f-b69a-682b1d9cacba",
   "metadata": {
    "slideshow": {
     "slide_type": "fragment"
    },
    "tags": []
   },
   "outputs": [
    {
     "name": "stdout",
     "output_type": "stream",
     "text": [
      "{'/bin/bash', '/usr/sbin/nologin', '/bin/sync'}\n"
     ]
    }
   ],
   "source": [
    "# More Pythonic\n",
    "shells = {\n",
    "    line.split(\":\")[-1].strip()\n",
    "    for line in open(\"static/linux-etc-passwd\")\n",
    "    if \":\" in line\n",
    "}\n",
    "print(shells)"
   ]
  },
  {
   "cell_type": "markdown",
   "id": "4e0a2953-c4c4-434d-a0ae-16c5864dfd74",
   "metadata": {
    "slideshow": {
     "slide_type": "subslide"
    },
    "tags": []
   },
   "source": [
    "#### Get user and shell mapping"
   ]
  },
  {
   "cell_type": "code",
   "execution_count": 21,
   "id": "56911d12-3e8e-47f0-ac23-22ca82329575",
   "metadata": {
    "slideshow": {
     "slide_type": "fragment"
    },
    "tags": []
   },
   "outputs": [],
   "source": [
    "# OK\n",
    "user_shell = {}\n",
    "\n",
    "with open(\"static/linux-etc-passwd\") as f:\n",
    "    for line in f:\n",
    "        if \":\" in line:\n",
    "            user, shell = line.split(\":\")[0], line.split(\":\")[-1].strip()\n",
    "            user_shell[user] = shell"
   ]
  },
  {
   "cell_type": "code",
   "execution_count": 22,
   "id": "956f1162-e4e5-43f9-a39e-2f452b9feaba",
   "metadata": {
    "slideshow": {
     "slide_type": "fragment"
    },
    "tags": []
   },
   "outputs": [
    {
     "name": "stdout",
     "output_type": "stream",
     "text": [
      "{'root': '/bin/bash', 'daemon': '/usr/sbin/nologin', 'bin': '/usr/sbin/nologin', 'sys': '/usr/sbin/nologin', 'sync': '/bin/sync', 'games': '/usr/sbin/nologin', 'man': '/usr/sbin/nologin', 'lp': '/usr/sbin/nologin', 'mail': '/usr/sbin/nologin', 'news': '/usr/sbin/nologin', 'uucp': '/usr/sbin/nologin', 'proxy': '/usr/sbin/nologin', 'www-data': '/usr/sbin/nologin', 'backup': '/usr/sbin/nologin', 'list': '/usr/sbin/nologin', 'irc': '/usr/sbin/nologin', 'gnats': '/usr/sbin/nologin', 'nobody': '/usr/sbin/nologin', 'systemd-network': '/usr/sbin/nologin', 'systemd-resolve': '/usr/sbin/nologin', 'messagebus': '/usr/sbin/nologin', 'systemd-timesync': '/usr/sbin/nologin', 'syslog': '/usr/sbin/nologin', '_apt': '/usr/sbin/nologin', 'uuidd': '/usr/sbin/nologin', 'tcpdump': '/usr/sbin/nologin', 'debakarr': '/bin/bash'}\n"
     ]
    }
   ],
   "source": [
    "print(user_shell)"
   ]
  },
  {
   "cell_type": "code",
   "execution_count": 23,
   "id": "f88f782b-fd4f-4bee-a712-7f3df3572d87",
   "metadata": {
    "slideshow": {
     "slide_type": "subslide"
    },
    "tags": []
   },
   "outputs": [],
   "source": [
    "# Pythonic\n",
    "user_shell = {\n",
    "    line.split(\":\")[0]: line.split(\":\")[-1].strip()\n",
    "    for line in open(\"static/linux-etc-passwd\")\n",
    "    if \":\" in line\n",
    "}"
   ]
  },
  {
   "cell_type": "code",
   "execution_count": 24,
   "id": "245f82fe-6fb4-4eb4-8296-e68942731e06",
   "metadata": {
    "slideshow": {
     "slide_type": "fragment"
    },
    "tags": []
   },
   "outputs": [
    {
     "name": "stdout",
     "output_type": "stream",
     "text": [
      "{'root': '/bin/bash', 'daemon': '/usr/sbin/nologin', 'bin': '/usr/sbin/nologin', 'sys': '/usr/sbin/nologin', 'sync': '/bin/sync', 'games': '/usr/sbin/nologin', 'man': '/usr/sbin/nologin', 'lp': '/usr/sbin/nologin', 'mail': '/usr/sbin/nologin', 'news': '/usr/sbin/nologin', 'uucp': '/usr/sbin/nologin', 'proxy': '/usr/sbin/nologin', 'www-data': '/usr/sbin/nologin', 'backup': '/usr/sbin/nologin', 'list': '/usr/sbin/nologin', 'irc': '/usr/sbin/nologin', 'gnats': '/usr/sbin/nologin', 'nobody': '/usr/sbin/nologin', 'systemd-network': '/usr/sbin/nologin', 'systemd-resolve': '/usr/sbin/nologin', 'messagebus': '/usr/sbin/nologin', 'systemd-timesync': '/usr/sbin/nologin', 'syslog': '/usr/sbin/nologin', '_apt': '/usr/sbin/nologin', 'uuidd': '/usr/sbin/nologin', 'tcpdump': '/usr/sbin/nologin', 'debakarr': '/bin/bash'}\n"
     ]
    }
   ],
   "source": [
    "print(user_shell)"
   ]
  },
  {
   "cell_type": "code",
   "execution_count": 25,
   "id": "0b203b5e-39eb-456a-9ecf-c858dc321c3c",
   "metadata": {
    "slideshow": {
     "slide_type": "subslide"
    },
    "tags": []
   },
   "outputs": [
    {
     "name": "stdout",
     "output_type": "stream",
     "text": [
      "{'root': '/bin/bash', 'daemon': '/usr/sbin/nologin', 'bin': '/usr/sbin/nologin', 'sys': '/usr/sbin/nologin', 'sync': '/bin/sync', 'games': '/usr/sbin/nologin', 'man': '/usr/sbin/nologin', 'lp': '/usr/sbin/nologin', 'mail': '/usr/sbin/nologin', 'news': '/usr/sbin/nologin', 'uucp': '/usr/sbin/nologin', 'proxy': '/usr/sbin/nologin', 'www-data': '/usr/sbin/nologin', 'backup': '/usr/sbin/nologin', 'list': '/usr/sbin/nologin', 'irc': '/usr/sbin/nologin', 'gnats': '/usr/sbin/nologin', 'nobody': '/usr/sbin/nologin', 'systemd-network': '/usr/sbin/nologin', 'systemd-resolve': '/usr/sbin/nologin', 'messagebus': '/usr/sbin/nologin', 'systemd-timesync': '/usr/sbin/nologin', 'syslog': '/usr/sbin/nologin', '_apt': '/usr/sbin/nologin', 'uuidd': '/usr/sbin/nologin', 'tcpdump': '/usr/sbin/nologin', 'debakarr': '/bin/bash'}\n"
     ]
    }
   ],
   "source": [
    "# A bit more readable\n",
    "user_shell = {\n",
    "    fields[0]: fields[-1].strip()\n",
    "    for line in open(\"static/linux-etc-passwd\")\n",
    "    if \":\" in line and (fields := line.split(\":\"))\n",
    "}\n",
    "print(user_shell)"
   ]
  },
  {
   "cell_type": "markdown",
   "id": "1d5a2dd1-7dfd-4bb1-8ec7-ddb1e1f70cbd",
   "metadata": {
    "slideshow": {
     "slide_type": "subslide"
    },
    "tags": []
   },
   "source": [
    "For next few example we will be using data from **movie dataset**"
   ]
  },
  {
   "cell_type": "code",
   "execution_count": 26,
   "id": "11b406c8-8454-4580-a2eb-cf83346a064d",
   "metadata": {
    "slideshow": {
     "slide_type": "fragment"
    },
    "tags": []
   },
   "outputs": [
    {
     "name": "stdout",
     "output_type": "stream",
     "text": [
      "id,title,type,description,release_year,age_certification,runtime,genres,production_countries,seasons,imdb_id,imdb_score,imdb_votes,tmdb_popularity,tmdb_score\n",
      "ts300399,Five Came Back: The Reference Films,SHOW,\"This collection includes 12 World War II-era propaganda films â€” many of which are graphic and offensive â€” discussed in the docuseries \"\"Five Came Back.\"\"\",1945,TV-MA,51,['documentation'],['US'],1.0,,,,0.601,\n",
      "tm82169,Rocky,MOVIE,\"When world heavyweight boxing champion, Apollo Creed wants to give an unknown fighter a shot at the title as a publicity stunt, his handlers choose palooka Rocky Balboa, an uneducated collector for a Philadelphia loan shark. Rocky teams up with trainer  Mickey Goldmill to make the most of this once in a lifetime break.\",1976,PG,119,\"['drama', 'sport']\",['US'],,tt0075148,8.1,588100.0,106.361,7.782\n",
      "tm17823,Grease,MOVIE,\"Australian good girl Sandy and greaser Danny fell in love over the summer. But when they unexpectedly discover they're now in the same high school, will they be able to rekindle their romance despite their eccentric friends?\",1978,PG,110,\"['romance', 'comedy']\",['US'],,tt0077631,7.2,283316.0,33.16,7.406\n",
      "tm191099,The Sting,MOVIE,A novice con man teams up with an acknowledged master to avenge the murder of a mutual friend by pulling off the ultimate big con and swindling a fortune from a big-time mobster.,1973,PG,129,\"['crime', 'drama', 'comedy', 'music']\",['US'],,tt0070735,8.3,266738.0,24.616,8.02\n",
      "tm69975,Rocky II,MOVIE,\"After Rocky goes the distance with champ Apollo Creed, both try to put the fight behind them and move on. Rocky settles down with Adrian but can't put his life together outside the ring, while Creed seeks a rematch to restore his reputation. Soon enough, the \"\"Master of Disaster\"\" and the \"\"Italian Stallion\"\" are set on a collision course for a climactic battle that is brutal and unforgettable.\",1979,PG,119,\"['drama', 'sport']\",['US'],,tt0079817,7.3,216307.0,75.699,7.246\n",
      "tm127384,Monty Python and the Holy Grail,MOVIE,\"King Arthur, accompanied by his squire, recruits his Knights of the Round Table, including Sir Bedevere the Wise, Sir Lancelot the Brave, Sir Robin the Not-Quite-So-Brave-As-Sir-Lancelot and Sir Galahad the Pure. On the way, Arthur battles the Black Knight who, despite having had all his limbs chopped off, insists he can still fight. They reach Camelot, but Arthur decides not  to enter, as \"\"it is a silly place\"\".\",1975,PG,91,\"['fantasy', 'comedy']\",['GB'],,tt0071853,8.2,547292.0,20.964,7.804\n",
      "tm17249,Animal House,MOVIE,\"At a 1962 College, Dean Vernon Wormer is determined to expel the entire Delta Tau Chi Fraternity, but those troublemakers have other plans for him.\",1978,R,109,['comedy'],['US'],,tt0077975,7.4,123611.0,17.372,7.02\n",
      "ts22164,Monty Python's Flying Circus,SHOW,\"A British sketch comedy series with the shows being composed of surreality, risquÃ© or innuendo-laden humour, sight gags and observational sketches without punchlines.\",1969,TV-14,30,\"['comedy', 'european']\",['GB'],4.0,tt0063929,8.8,75654.0,24.773,8.258\n",
      "tm70993,Life of Brian,MOVIE,\"Brian Cohen is an average young Jewish man, but through a series of ridiculous events, he gains a reputation as the Messiah. When he's not dodging his followers or being scolded by his shrill mother, the hapless Brian has to contend with the pompous Pontius Pilate and acronym-obsessed members of a separatist movement. Rife with Monty Python's signature absurdity, the tale finds Brian's life paralleling Biblical lore, albeit with many more laughs.\",1979,R,94,['comedy'],['GB'],,tt0079470,8.0,405022.0,19.787,7.762\n"
     ]
    }
   ],
   "source": [
    "!head static/titles.csv"
   ]
  },
  {
   "cell_type": "markdown",
   "id": "5275d8f6-9461-4d1a-afe9-40df16d4e776",
   "metadata": {
    "slideshow": {
     "slide_type": "subslide"
    },
    "tags": []
   },
   "source": [
    "##### Find top 5 most common genre for all the movies released in 2022"
   ]
  },
  {
   "cell_type": "code",
   "execution_count": 27,
   "id": "5919df17-cfd0-40b1-b771-3606317003bf",
   "metadata": {
    "slideshow": {
     "slide_type": "fragment"
    },
    "tags": []
   },
   "outputs": [
    {
     "name": "stdout",
     "output_type": "stream",
     "text": [
      "[('\"[drama', 47), ('\"[comedy', 34), ('documentation', 16), ('reality', 14), ('comedy', 11)]\n"
     ]
    }
   ],
   "source": [
    "# Not pythonic. This code is generate using GPT-4-32K\n",
    "\n",
    "# Read the CSV file and store the data in a list of dictionaries\n",
    "with open(\"static/titles.csv\", \"r\", encoding=\"utf-8\") as file:\n",
    "    lines = file.readlines()\n",
    "    header = lines[0].strip().split(\",\")\n",
    "    data = [dict(zip(header, line.strip().split(\",\"))) for line in lines[1:]]\n",
    "\n",
    "# Filter the data for movies released in 2022\n",
    "movies_2022 = [movie for movie in data if movie.get(\"release_year\") == \"2022\"]\n",
    "\n",
    "# Count the occurrences of each genre\n",
    "genre_counts = {}\n",
    "for movie in movies_2022:\n",
    "    genres = movie.get(\"genres\", \"\").strip(\"[]\").replace(\"'\", \"\").split(\", \")\n",
    "    for genre in genres:\n",
    "        genre = genre.strip()\n",
    "        genre_counts[genre] = genre_counts.get(genre, 0) + 1\n",
    "\n",
    "# Get the top 5 genres\n",
    "top_5_genres = sorted(genre_counts.items(), key=lambda x: x[1], reverse=True)[:5]\n",
    "\n",
    "print(top_5_genres)"
   ]
  },
  {
   "cell_type": "markdown",
   "id": "76b0312c-c4e7-4ca3-985c-dc93fdeab324",
   "metadata": {
    "slideshow": {
     "slide_type": "subslide"
    },
    "tags": []
   },
   "source": [
    "**Track to more Pythonic code**\n",
    "\n",
    "- Use `csv.DictReader` to read the csv file."
   ]
  },
  {
   "cell_type": "code",
   "execution_count": 28,
   "id": "19301571-086c-4062-80a0-23f6b1ba388e",
   "metadata": {
    "slideshow": {
     "slide_type": "fragment"
    },
    "tags": []
   },
   "outputs": [
    {
     "name": "stdout",
     "output_type": "stream",
     "text": [
      "{'id': 'ts300399', 'title': 'Five Came Back: The Reference Films', 'type': 'SHOW', 'description': 'This collection includes 12 World War II-era propaganda films — many of which are graphic and offensive — discussed in the docuseries \"Five Came Back.\"', 'release_year': '1945', 'age_certification': 'TV-MA', 'runtime': '51', 'genres': \"['documentation']\", 'production_countries': \"['US']\", 'seasons': '1.0', 'imdb_id': '', 'imdb_score': '', 'imdb_votes': '', 'tmdb_popularity': '0.601', 'tmdb_score': ''}\n",
      "{'id': 'tm82169', 'title': 'Rocky', 'type': 'MOVIE', 'description': 'When world heavyweight boxing champion, Apollo Creed wants to give an unknown fighter a shot at the title as a publicity stunt, his handlers choose palooka Rocky Balboa, an uneducated collector for a Philadelphia loan shark. Rocky teams up with trainer  Mickey Goldmill to make the most of this once in a lifetime break.', 'release_year': '1976', 'age_certification': 'PG', 'runtime': '119', 'genres': \"['drama', 'sport']\", 'production_countries': \"['US']\", 'seasons': '', 'imdb_id': 'tt0075148', 'imdb_score': '8.1', 'imdb_votes': '588100.0', 'tmdb_popularity': '106.361', 'tmdb_score': '7.782'}\n",
      "{'id': 'tm17823', 'title': 'Grease', 'type': 'MOVIE', 'description': \"Australian good girl Sandy and greaser Danny fell in love over the summer. But when they unexpectedly discover they're now in the same high school, will they be able to rekindle their romance despite their eccentric friends?\", 'release_year': '1978', 'age_certification': 'PG', 'runtime': '110', 'genres': \"['romance', 'comedy']\", 'production_countries': \"['US']\", 'seasons': '', 'imdb_id': 'tt0077631', 'imdb_score': '7.2', 'imdb_votes': '283316.0', 'tmdb_popularity': '33.16', 'tmdb_score': '7.406'}\n",
      "{'id': 'tm191099', 'title': 'The Sting', 'type': 'MOVIE', 'description': 'A novice con man teams up with an acknowledged master to avenge the murder of a mutual friend by pulling off the ultimate big con and swindling a fortune from a big-time mobster.', 'release_year': '1973', 'age_certification': 'PG', 'runtime': '129', 'genres': \"['crime', 'drama', 'comedy', 'music']\", 'production_countries': \"['US']\", 'seasons': '', 'imdb_id': 'tt0070735', 'imdb_score': '8.3', 'imdb_votes': '266738.0', 'tmdb_popularity': '24.616', 'tmdb_score': '8.02'}\n",
      "{'id': 'tm69975', 'title': 'Rocky II', 'type': 'MOVIE', 'description': 'After Rocky goes the distance with champ Apollo Creed, both try to put the fight behind them and move on. Rocky settles down with Adrian but can\\'t put his life together outside the ring, while Creed seeks a rematch to restore his reputation. Soon enough, the \"Master of Disaster\" and the \"Italian Stallion\" are set on a collision course for a climactic battle that is brutal and unforgettable.', 'release_year': '1979', 'age_certification': 'PG', 'runtime': '119', 'genres': \"['drama', 'sport']\", 'production_countries': \"['US']\", 'seasons': '', 'imdb_id': 'tt0079817', 'imdb_score': '7.3', 'imdb_votes': '216307.0', 'tmdb_popularity': '75.699', 'tmdb_score': '7.246'}\n"
     ]
    }
   ],
   "source": [
    "import csv\n",
    "\n",
    "\n",
    "with open(\"static/titles.csv\", newline=\"\", encoding=\"utf-8\") as csvfile:\n",
    "    reader = csv.DictReader(csvfile)\n",
    "    for index, row in enumerate(reader):\n",
    "        if index == 5:\n",
    "            break\n",
    "        print(row)"
   ]
  },
  {
   "cell_type": "markdown",
   "id": "7a3da12d-d738-4a97-aaff-aa2243f3db89",
   "metadata": {
    "slideshow": {
     "slide_type": "subslide"
    },
    "tags": []
   },
   "source": [
    "- Use `ast.literal_eval` to evaluate the list from string."
   ]
  },
  {
   "cell_type": "code",
   "execution_count": 29,
   "id": "f1bf5fac-efd4-47c2-a0a6-1b88cb46f2e8",
   "metadata": {
    "slideshow": {
     "slide_type": "fragment"
    },
    "tags": []
   },
   "outputs": [
    {
     "data": {
      "text/plain": [
       "str"
      ]
     },
     "execution_count": 29,
     "metadata": {},
     "output_type": "execute_result"
    }
   ],
   "source": [
    "genre = \"['drama', 'sport']\"\n",
    "type(genre)"
   ]
  },
  {
   "cell_type": "code",
   "execution_count": 30,
   "id": "f1d99dba-9b22-4dfc-81c4-0b9f7913b5df",
   "metadata": {
    "slideshow": {
     "slide_type": "fragment"
    },
    "tags": []
   },
   "outputs": [
    {
     "name": "stdout",
     "output_type": "stream",
     "text": [
      "['drama', 'sport']\n"
     ]
    },
    {
     "data": {
      "text/plain": [
       "list"
      ]
     },
     "execution_count": 30,
     "metadata": {},
     "output_type": "execute_result"
    }
   ],
   "source": [
    "import ast\n",
    "\n",
    "\n",
    "genre = ast.literal_eval(\"['drama', 'sport']\")\n",
    "print(genre)\n",
    "type(genre)"
   ]
  },
  {
   "cell_type": "markdown",
   "id": "f4da0d93-c25a-4dcc-957f-d05b0620e39b",
   "metadata": {
    "slideshow": {
     "slide_type": "subslide"
    },
    "tags": []
   },
   "source": [
    "- Use `Counter` with list comprehension to find the most common genre"
   ]
  },
  {
   "cell_type": "code",
   "execution_count": 31,
   "id": "e8c563a0-8784-4897-9031-70f946e34538",
   "metadata": {
    "slideshow": {
     "slide_type": "fragment"
    },
    "tags": []
   },
   "outputs": [
    {
     "data": {
      "text/plain": [
       "[('drama', 256),\n",
       " ('comedy', 250),\n",
       " ('thriller', 127),\n",
       " ('documentation', 114),\n",
       " ('romance', 107)]"
      ]
     },
     "execution_count": 31,
     "metadata": {},
     "output_type": "execute_result"
    }
   ],
   "source": [
    "from collections import Counter\n",
    "\n",
    "\n",
    "with open(\"static/titles.csv\", newline=\"\", encoding=\"utf-8\") as csvfile:\n",
    "    reader = csv.DictReader(csvfile)\n",
    "    c = Counter(\n",
    "        [\n",
    "            one_genre\n",
    "            for row in reader\n",
    "            for one_genre in ast.literal_eval(row[\"genres\"])\n",
    "            if row[\"release_year\"] == \"2022\" and row[\"type\"] == \"MOVIE\"\n",
    "        ]\n",
    "    )\n",
    "c.most_common(5)"
   ]
  },
  {
   "cell_type": "markdown",
   "id": "a0da628f-b3c7-48cf-a0c3-11a670dd5d1a",
   "metadata": {},
   "source": [
    "[![](https://img.youtube.com/vi/qMv1ZD2V1A4/0.jpg)](https://youtu.be/qMv1ZD2V1A4)"
   ]
  },
  {
   "cell_type": "markdown",
   "id": "8edfb06b-82b5-4196-ac8c-869e24f778d4",
   "metadata": {},
   "source": [
    "\\[<< [Truth Value Testing](./03_truth_value_testing.ipynb) | [Index](./00_index.ipynb) | [Generators and Lazy Evaluation](./05_generators_and_lazy_evaluation.ipynb) >>\\]3"
   ]
  }
 ],
 "metadata": {
  "kernelspec": {
   "display_name": "Python 3 (ipykernel)",
   "language": "python",
   "name": "python3"
  },
  "language_info": {
   "codemirror_mode": {
    "name": "ipython",
    "version": 3
   },
   "file_extension": ".py",
   "mimetype": "text/x-python",
   "name": "python",
   "nbconvert_exporter": "python",
   "pygments_lexer": "ipython3",
   "version": "3.8.10"
  }
 },
 "nbformat": 4,
 "nbformat_minor": 5
}
