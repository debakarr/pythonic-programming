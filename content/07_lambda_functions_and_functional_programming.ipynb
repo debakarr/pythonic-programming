{
 "cells": [
  {
   "cell_type": "markdown",
   "id": "9c1a90dd-6605-4614-bd4b-97882bca8613",
   "metadata": {
    "slideshow": {
     "slide_type": "slide"
    },
    "tags": []
   },
   "source": [
    "## Lambda Functions and Functional Programming"
   ]
  },
  {
   "cell_type": "code",
   "execution_count": 2,
   "id": "a0965753-24f1-48e6-adf5-b85fb9df5d8c",
   "metadata": {
    "slideshow": {
     "slide_type": "fragment"
    },
    "tags": []
   },
   "outputs": [
    {
     "data": {
      "text/plain": [
       "<function __main__.<lambda>(x)>"
      ]
     },
     "execution_count": 2,
     "metadata": {},
     "output_type": "execute_result"
    }
   ],
   "source": [
    "lambda x: x**2 + 2*x + 1"
   ]
  },
  {
   "cell_type": "code",
   "execution_count": 4,
   "id": "bee5dd64-5dfc-4e7d-920c-21602eb77bd6",
   "metadata": {
    "slideshow": {
     "slide_type": "fragment"
    },
    "tags": []
   },
   "outputs": [
    {
     "name": "stdout",
     "output_type": "stream",
     "text": [
      "func(1) = 4\n",
      "func(3) = 16\n",
      "func(5) = 36\n"
     ]
    }
   ],
   "source": [
    "func = lambda x: x**2 + 2*x + 1\n",
    "print(f\"{func(1) = }\")\n",
    "print(f\"{func(3) = }\")\n",
    "print(f\"{func(5) = }\")"
   ]
  },
  {
   "cell_type": "code",
   "execution_count": 13,
   "id": "aa974c13-8be4-4dfc-af58-50e23daeb74d",
   "metadata": {
    "slideshow": {
     "slide_type": "subslide"
    },
    "tags": []
   },
   "outputs": [
    {
     "name": "stdout",
     "output_type": "stream",
     "text": [
      "[2, 4, 6, 8, 10, 12, 14, 16, 18, 20]\n"
     ]
    }
   ],
   "source": [
    "def even_filter(num):\n",
    "    return num % 2 == 0\n",
    "\n",
    "\n",
    "even_till_20 = list(filter(even_filter, range(1, 21)))\n",
    "print(f\"{even_till_20}\")"
   ]
  },
  {
   "cell_type": "code",
   "execution_count": 14,
   "id": "60e33345-0014-45b6-8f97-9ea1e8f141d6",
   "metadata": {
    "slideshow": {
     "slide_type": "fragment"
    },
    "tags": []
   },
   "outputs": [
    {
     "name": "stdout",
     "output_type": "stream",
     "text": [
      "[2, 4, 6, 8, 10, 12, 14, 16, 18, 20]\n"
     ]
    }
   ],
   "source": [
    "even_till_20 = list(filter(lambda x: x % 2 == 0, range(1, 21)))\n",
    "print(f\"{even_till_20}\")"
   ]
  },
  {
   "cell_type": "code",
   "execution_count": 15,
   "id": "04555bed-cac2-415b-9636-ef0c5314f13c",
   "metadata": {
    "slideshow": {
     "slide_type": "fragment"
    },
    "tags": []
   },
   "outputs": [
    {
     "name": "stdout",
     "output_type": "stream",
     "text": [
      "[2, 4, 6, 8, 10, 12, 14, 16, 18, 20]\n"
     ]
    }
   ],
   "source": [
    "# Although List comprehension is considered for Pythonic\n",
    "even_till_20 = [x for x in range(1, 21) if x % 2 == 0]\n",
    "print(f\"{even_till_20}\")"
   ]
  },
  {
   "cell_type": "markdown",
   "id": "9f059162-ec1b-4d31-827a-e48d82ba54c7",
   "metadata": {
    "slideshow": {
     "slide_type": "subslide"
    },
    "tags": []
   },
   "source": [
    "### Then when to use `lambda` function?"
   ]
  },
  {
   "cell_type": "markdown",
   "id": "8828139d-347f-4d83-ac37-397dcdb3fffa",
   "metadata": {
    "slideshow": {
     "slide_type": "fragment"
    },
    "tags": []
   },
   "source": [
    "#### Use it as key to higher order function like `sort`, `sorted`, `min`, `max` etc."
   ]
  },
  {
   "cell_type": "code",
   "execution_count": 2,
   "id": "f107df5c-e7e0-49f7-bd0a-694f5fcf3d5c",
   "metadata": {
    "slideshow": {
     "slide_type": "fragment"
    },
    "tags": []
   },
   "outputs": [
    {
     "data": {
      "text/plain": [
       "['tm127384',\n",
       " 'tm16479',\n",
       " 'tm17249',\n",
       " 'tm17823',\n",
       " 'tm191099',\n",
       " 'tm69975',\n",
       " 'tm70993',\n",
       " 'tm82169',\n",
       " 'ts22164',\n",
       " 'ts300399']"
      ]
     },
     "execution_count": 2,
     "metadata": {},
     "output_type": "execute_result"
    }
   ],
   "source": [
    "# Normal sorted does not work as expected\n",
    "movie_ids = [\"ts300399\", \"tm82169\", \"tm17823\", \"tm191099\", \"tm69975\", \"tm127384\", \"tm17249\", \"ts22164\", \"tm70993\", \"tm16479\"]\n",
    "sorted(movie_ids)"
   ]
  },
  {
   "cell_type": "code",
   "execution_count": 24,
   "id": "9d3599c3-fc73-4c13-900c-69f8cb7bcd9e",
   "metadata": {
    "slideshow": {
     "slide_type": "fragment"
    },
    "tags": []
   },
   "outputs": [
    {
     "data": {
      "text/plain": [
       "['tm16479',\n",
       " 'tm17249',\n",
       " 'tm17823',\n",
       " 'ts22164',\n",
       " 'tm69975',\n",
       " 'tm70993',\n",
       " 'tm82169',\n",
       " 'tm127384',\n",
       " 'tm191099',\n",
       " 'ts300399']"
      ]
     },
     "execution_count": 24,
     "metadata": {},
     "output_type": "execute_result"
    }
   ],
   "source": [
    "sorted(movie_ids, key=lambda x: int(x[2:]))"
   ]
  },
  {
   "cell_type": "code",
   "execution_count": 19,
   "id": "d37742b3-98dc-465b-b3aa-ce2cf8b7d725",
   "metadata": {
    "slideshow": {
     "slide_type": "subslide"
    },
    "tags": []
   },
   "outputs": [
    {
     "name": "stdout",
     "output_type": "stream",
     "text": [
      "2\n"
     ]
    }
   ],
   "source": [
    "my_list = [5, 2, 8, 1, 9]\n",
    "min_even = min(my_list, key=lambda x: x % 2)\n",
    "print(min_even)"
   ]
  },
  {
   "cell_type": "markdown",
   "id": "af1dea94-2e4e-47ab-8d6e-74bf5250430f",
   "metadata": {
    "slideshow": {
     "slide_type": "subslide"
    },
    "tags": []
   },
   "source": [
    "#### Used in `event binding` in some of the `libraries`\n",
    "\n",
    "- [Tkinter event binding](https://tkdocs.com/tutorial/canvas.html#bindings)\n",
    "- [NiceGUI button event binding](https://nicegui.io/documentation#button)"
   ]
  },
  {
   "cell_type": "markdown",
   "id": "860381d4-c47b-4ad6-81da-b8a6c6527343",
   "metadata": {
    "slideshow": {
     "slide_type": "subslide"
    },
    "tags": []
   },
   "source": [
    "#### Use it with `timeit` library"
   ]
  },
  {
   "cell_type": "code",
   "execution_count": 37,
   "id": "5b530b52-9018-4956-93ab-39311072de96",
   "metadata": {
    "slideshow": {
     "slide_type": "fragment"
    },
    "tags": []
   },
   "outputs": [
    {
     "data": {
      "text/plain": [
       "0.0004572000034386292"
      ]
     },
     "execution_count": 37,
     "metadata": {},
     "output_type": "execute_result"
    }
   ],
   "source": [
    "import timeit\n",
    "\n",
    "\n",
    "timeit.timeit(\"factorial(1000)\", \"from math import factorial\", number=10)"
   ]
  },
  {
   "cell_type": "code",
   "execution_count": 38,
   "id": "65d0cd6e-2e37-4807-8255-3b5bab55c599",
   "metadata": {
    "slideshow": {
     "slide_type": "fragment"
    },
    "tags": []
   },
   "outputs": [
    {
     "data": {
      "text/plain": [
       "0.0005028000014135614"
      ]
     },
     "execution_count": 38,
     "metadata": {},
     "output_type": "execute_result"
    }
   ],
   "source": [
    "import timeit\n",
    "from math import factorial\n",
    "\n",
    "\n",
    "timeit.timeit(lambda: factorial(1000), number=10)"
   ]
  },
  {
   "cell_type": "code",
   "execution_count": 45,
   "id": "7a0dc737-a107-4787-865c-ecae08d0548f",
   "metadata": {
    "slideshow": {
     "slide_type": "fragment"
    },
    "tags": []
   },
   "outputs": [
    {
     "name": "stdout",
     "output_type": "stream",
     "text": [
      "50.5 µs ± 5.95 µs per loop (mean ± std. dev. of 7 runs, 10 loops each)\n"
     ]
    }
   ],
   "source": [
    "# Although Jupyter notebook/lab have other ways to run timeit\n",
    "%timeit -n 10 factorial(1000)"
   ]
  },
  {
   "cell_type": "markdown",
   "id": "ba707b34-0b2d-4e77-b90d-a5331e933338",
   "metadata": {
    "slideshow": {
     "slide_type": "subslide"
    },
    "tags": []
   },
   "source": [
    "#### Mocking during unit testing"
   ]
  },
  {
   "cell_type": "code",
   "execution_count": 46,
   "id": "7bb423cc-0a0b-4eac-a2f5-96a893290787",
   "metadata": {
    "slideshow": {
     "slide_type": "fragment"
    },
    "tags": []
   },
   "outputs": [],
   "source": [
    "%load_ext save_and_exec_magic"
   ]
  },
  {
   "cell_type": "code",
   "execution_count": 50,
   "id": "5dafbe85-f18f-4fd7-97da-ee4ffd408c27",
   "metadata": {
    "slideshow": {
     "slide_type": "fragment"
    },
    "tags": []
   },
   "outputs": [
    {
     "data": {
      "text/html": [
       "<pre>============================= test session starts =============================\n",
       "platform win32 -- Python 3.8.10, pytest-7.4.3, pluggy-1.3.0\n",
       "rootdir: C:\\Source\\pythonic-programming\\content\n",
       "plugins: anyio-3.7.1\n",
       "collected 1 item\n",
       "\n",
       "tmp.py .                                                                 [100%]\n",
       "\n",
       "============================== 1 passed in 0.03s ==============================\n",
       "</pre>"
      ],
      "text/plain": [
       "<IPython.core.display.HTML object>"
      ]
     },
     "metadata": {},
     "output_type": "display_data"
    }
   ],
   "source": [
    "%%save_and_run_magic pytest\n",
    "import secrets\n",
    "\n",
    "def gen_token():\n",
    "    return f'TOKEN_{secrets.token_hex(8)}'\n",
    "\n",
    "def test_gen_key(monkeypatch):\n",
    "    mock_token = \"jdfelcfgorh\"\n",
    "    monkeypatch.setattr('secrets.token_hex', lambda _: mock_token)\n",
    "    assert gen_token() == f\"TOKEN_{mock_token}\""
   ]
  }
 ],
 "metadata": {
  "kernelspec": {
   "display_name": "Python 3 (ipykernel)",
   "language": "python",
   "name": "python3"
  },
  "language_info": {
   "codemirror_mode": {
    "name": "ipython",
    "version": 3
   },
   "file_extension": ".py",
   "mimetype": "text/x-python",
   "name": "python",
   "nbconvert_exporter": "python",
   "pygments_lexer": "ipython3",
   "version": "3.8.10"
  }
 },
 "nbformat": 4,
 "nbformat_minor": 5
}
