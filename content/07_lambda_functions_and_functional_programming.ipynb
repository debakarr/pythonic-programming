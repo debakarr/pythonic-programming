{
 "cells": [
  {
   "cell_type": "markdown",
   "id": "9c1a90dd-6605-4614-bd4b-97882bca8613",
   "metadata": {
    "slideshow": {
     "slide_type": "slide"
    },
    "tags": []
   },
   "source": [
    "\\[<< [DRY and Code Reusability](./06_DRY_and_code_reusability.ipynb) | [Index](./00_index.ipynb) | [Duck Typing and Goose Typing](./08_duck_typing_and_goose_typing.ipynb) >>\\]"
   ]
  },
  {
   "cell_type": "markdown",
   "id": "b269a0ef-55b7-4f89-a2a3-86af781e321b",
   "metadata": {
    "slideshow": {
     "slide_type": "slide"
    },
    "tags": []
   },
   "source": [
    "## Lambda Functions and Functional Programming"
   ]
  },
  {
   "cell_type": "markdown",
   "id": "f90ed64b-1cb1-462a-98a1-1dfd1337ddbc",
   "metadata": {
    "slideshow": {
     "slide_type": "fragment"
    },
    "tags": []
   },
   "source": [
    "**Pre-requisite**: [Lambda topic in intermediate-python course](https://github.com/debakarr/intermediate-python/blob/main/content/05_other_functions_concepts.ipynb)"
   ]
  },
  {
   "cell_type": "code",
   "execution_count": 1,
   "id": "a0965753-24f1-48e6-adf5-b85fb9df5d8c",
   "metadata": {
    "slideshow": {
     "slide_type": "fragment"
    },
    "tags": []
   },
   "outputs": [
    {
     "data": {
      "text/plain": [
       "<function __main__.<lambda>(x)>"
      ]
     },
     "execution_count": 1,
     "metadata": {},
     "output_type": "execute_result"
    }
   ],
   "source": [
    "lambda x: x**2 + 2 * x + 1"
   ]
  },
  {
   "cell_type": "code",
   "execution_count": 2,
   "id": "bee5dd64-5dfc-4e7d-920c-21602eb77bd6",
   "metadata": {
    "slideshow": {
     "slide_type": "fragment"
    },
    "tags": []
   },
   "outputs": [
    {
     "name": "stdout",
     "output_type": "stream",
     "text": [
      "func(1) = 4\n",
      "func(3) = 16\n",
      "func(5) = 36\n"
     ]
    }
   ],
   "source": [
    "func = lambda x: x**2 + 2 * x + 1\n",
    "print(f\"{func(1) = }\")\n",
    "print(f\"{func(3) = }\")\n",
    "print(f\"{func(5) = }\")"
   ]
  },
  {
   "cell_type": "code",
   "execution_count": 3,
   "id": "aa974c13-8be4-4dfc-af58-50e23daeb74d",
   "metadata": {
    "slideshow": {
     "slide_type": "subslide"
    },
    "tags": []
   },
   "outputs": [
    {
     "name": "stdout",
     "output_type": "stream",
     "text": [
      "[2, 4, 6, 8, 10, 12, 14, 16, 18, 20]\n"
     ]
    }
   ],
   "source": [
    "def even_filter(num):\n",
    "    return num % 2 == 0\n",
    "\n",
    "\n",
    "even_till_20 = list(filter(even_filter, range(1, 21)))\n",
    "print(f\"{even_till_20}\")"
   ]
  },
  {
   "cell_type": "code",
   "execution_count": 4,
   "id": "60e33345-0014-45b6-8f97-9ea1e8f141d6",
   "metadata": {
    "slideshow": {
     "slide_type": "fragment"
    },
    "tags": []
   },
   "outputs": [
    {
     "name": "stdout",
     "output_type": "stream",
     "text": [
      "[2, 4, 6, 8, 10, 12, 14, 16, 18, 20]\n"
     ]
    }
   ],
   "source": [
    "even_till_20 = list(filter(lambda x: x % 2 == 0, range(1, 21)))\n",
    "print(f\"{even_till_20}\")"
   ]
  },
  {
   "cell_type": "code",
   "execution_count": 5,
   "id": "04555bed-cac2-415b-9636-ef0c5314f13c",
   "metadata": {
    "slideshow": {
     "slide_type": "fragment"
    },
    "tags": []
   },
   "outputs": [
    {
     "name": "stdout",
     "output_type": "stream",
     "text": [
      "[2, 4, 6, 8, 10, 12, 14, 16, 18, 20]\n"
     ]
    }
   ],
   "source": [
    "# Although List comprehension is considered for Pythonic\n",
    "even_till_20 = [x for x in range(1, 21) if x % 2 == 0]\n",
    "print(f\"{even_till_20}\")"
   ]
  },
  {
   "cell_type": "markdown",
   "id": "9f059162-ec1b-4d31-827a-e48d82ba54c7",
   "metadata": {
    "slideshow": {
     "slide_type": "subslide"
    },
    "tags": []
   },
   "source": [
    "### Then when to use `lambda` function?"
   ]
  },
  {
   "cell_type": "markdown",
   "id": "8828139d-347f-4d83-ac37-397dcdb3fffa",
   "metadata": {
    "slideshow": {
     "slide_type": "fragment"
    },
    "tags": []
   },
   "source": [
    "#### Use it as key to higher order function like `sort`, `sorted`, `min`, `max` etc."
   ]
  },
  {
   "cell_type": "code",
   "execution_count": 6,
   "id": "f107df5c-e7e0-49f7-bd0a-694f5fcf3d5c",
   "metadata": {
    "slideshow": {
     "slide_type": "fragment"
    },
    "tags": []
   },
   "outputs": [
    {
     "data": {
      "text/plain": [
       "['tm127384',\n",
       " 'tm16479',\n",
       " 'tm17249',\n",
       " 'tm17823',\n",
       " 'tm191099',\n",
       " 'tm69975',\n",
       " 'tm70993',\n",
       " 'tm82169',\n",
       " 'ts22164',\n",
       " 'ts300399']"
      ]
     },
     "execution_count": 6,
     "metadata": {},
     "output_type": "execute_result"
    }
   ],
   "source": [
    "# Normal sorted does not work as expected\n",
    "movie_ids = [\n",
    "    \"ts300399\",\n",
    "    \"tm82169\",\n",
    "    \"tm17823\",\n",
    "    \"tm191099\",\n",
    "    \"tm69975\",\n",
    "    \"tm127384\",\n",
    "    \"tm17249\",\n",
    "    \"ts22164\",\n",
    "    \"tm70993\",\n",
    "    \"tm16479\",\n",
    "]\n",
    "sorted(movie_ids)"
   ]
  },
  {
   "cell_type": "code",
   "execution_count": 7,
   "id": "9d3599c3-fc73-4c13-900c-69f8cb7bcd9e",
   "metadata": {
    "slideshow": {
     "slide_type": "fragment"
    },
    "tags": []
   },
   "outputs": [
    {
     "data": {
      "text/plain": [
       "['tm16479',\n",
       " 'tm17249',\n",
       " 'tm17823',\n",
       " 'ts22164',\n",
       " 'tm69975',\n",
       " 'tm70993',\n",
       " 'tm82169',\n",
       " 'tm127384',\n",
       " 'tm191099',\n",
       " 'ts300399']"
      ]
     },
     "execution_count": 7,
     "metadata": {},
     "output_type": "execute_result"
    }
   ],
   "source": [
    "sorted(movie_ids, key=lambda x: int(x[2:]))"
   ]
  },
  {
   "cell_type": "code",
   "execution_count": 8,
   "id": "d37742b3-98dc-465b-b3aa-ce2cf8b7d725",
   "metadata": {
    "slideshow": {
     "slide_type": "subslide"
    },
    "tags": []
   },
   "outputs": [
    {
     "name": "stdout",
     "output_type": "stream",
     "text": [
      "2\n"
     ]
    }
   ],
   "source": [
    "my_list = [5, 2, 8, 1, 9]\n",
    "min_even = min(my_list, key=lambda x: x % 2)\n",
    "print(min_even)"
   ]
  },
  {
   "cell_type": "markdown",
   "id": "af1dea94-2e4e-47ab-8d6e-74bf5250430f",
   "metadata": {
    "slideshow": {
     "slide_type": "subslide"
    },
    "tags": []
   },
   "source": [
    "#### Used in `event binding` in some of the `libraries`\n",
    "\n",
    "- [Tkinter event binding](https://tkdocs.com/tutorial/canvas.html#bindings)\n",
    "- [NiceGUI button event binding](https://nicegui.io/documentation#button)"
   ]
  },
  {
   "cell_type": "markdown",
   "id": "860381d4-c47b-4ad6-81da-b8a6c6527343",
   "metadata": {
    "slideshow": {
     "slide_type": "subslide"
    },
    "tags": []
   },
   "source": [
    "#### Use it with `timeit` library"
   ]
  },
  {
   "cell_type": "code",
   "execution_count": 9,
   "id": "5b530b52-9018-4956-93ab-39311072de96",
   "metadata": {
    "slideshow": {
     "slide_type": "fragment"
    },
    "tags": []
   },
   "outputs": [
    {
     "data": {
      "text/plain": [
       "0.0008407999999997529"
      ]
     },
     "execution_count": 9,
     "metadata": {},
     "output_type": "execute_result"
    }
   ],
   "source": [
    "import timeit\n",
    "\n",
    "\n",
    "timeit.timeit(\"factorial(1000)\", \"from math import factorial\", number=10)"
   ]
  },
  {
   "cell_type": "code",
   "execution_count": 10,
   "id": "65d0cd6e-2e37-4807-8255-3b5bab55c599",
   "metadata": {
    "slideshow": {
     "slide_type": "fragment"
    },
    "tags": []
   },
   "outputs": [
    {
     "data": {
      "text/plain": [
       "0.0006029999999999092"
      ]
     },
     "execution_count": 10,
     "metadata": {},
     "output_type": "execute_result"
    }
   ],
   "source": [
    "import timeit\n",
    "from math import factorial\n",
    "\n",
    "\n",
    "timeit.timeit(lambda: factorial(1000), number=10)"
   ]
  },
  {
   "cell_type": "code",
   "execution_count": 11,
   "id": "7a0dc737-a107-4787-865c-ecae08d0548f",
   "metadata": {
    "slideshow": {
     "slide_type": "fragment"
    },
    "tags": []
   },
   "outputs": [
    {
     "name": "stdout",
     "output_type": "stream",
     "text": [
      "66.2 µs ± 39.4 µs per loop (mean ± std. dev. of 7 runs, 10 loops each)\n"
     ]
    }
   ],
   "source": [
    "# Although Jupyter notebook/lab have other ways to run timeit\n",
    "%timeit -n 10 factorial(1000)"
   ]
  },
  {
   "cell_type": "markdown",
   "id": "ba707b34-0b2d-4e77-b90d-a5331e933338",
   "metadata": {
    "slideshow": {
     "slide_type": "subslide"
    },
    "tags": []
   },
   "source": [
    "#### Mocking during unit testing"
   ]
  },
  {
   "cell_type": "code",
   "execution_count": 12,
   "id": "7bb423cc-0a0b-4eac-a2f5-96a893290787",
   "metadata": {
    "slideshow": {
     "slide_type": "fragment"
    },
    "tags": []
   },
   "outputs": [],
   "source": [
    "%load_ext save_and_exec_magic"
   ]
  },
  {
   "cell_type": "code",
   "execution_count": 13,
   "id": "5dafbe85-f18f-4fd7-97da-ee4ffd408c27",
   "metadata": {
    "slideshow": {
     "slide_type": "fragment"
    },
    "tags": []
   },
   "outputs": [
    {
     "data": {
      "text/html": [
       "<pre>============================= test session starts =============================\n",
       "platform win32 -- Python 3.8.10, pytest-7.4.3, pluggy-1.3.0\n",
       "rootdir: C:\\Source\\pythonic-programming\\content\n",
       "plugins: anyio-3.7.1\n",
       "collected 1 item\n",
       "\n",
       "tmp.py .                                                                 [100%]\n",
       "\n",
       "============================== 1 passed in 0.01s ==============================\n",
       "</pre>"
      ],
      "text/plain": [
       "<IPython.core.display.HTML object>"
      ]
     },
     "metadata": {},
     "output_type": "display_data"
    }
   ],
   "source": [
    "%%save_and_run_magic pytest\n",
    "import secrets\n",
    "\n",
    "def gen_token():\n",
    "    return f'TOKEN_{secrets.token_hex(8)}'\n",
    "\n",
    "def test_gen_key(monkeypatch):\n",
    "    mock_token = \"jdfelcfgorh\"\n",
    "    monkeypatch.setattr('secrets.token_hex', lambda _: mock_token)\n",
    "    assert gen_token() == f\"TOKEN_{mock_token}\""
   ]
  },
  {
   "cell_type": "markdown",
   "id": "5d8a8bbf-9ebd-43ba-9837-662f544ae7e6",
   "metadata": {},
   "source": [
    "**Footnotes:**\n",
    "- Lambda functions offer a concise syntax for anonymous functions, making them suitable for use cases where function definitions would be overly verbose.\n",
    "- They are particularly useful as arguments to higher-order functions, such as `sorted()`, `filter()`, `map()`, and in event binding scenarios.\n",
    "- While powerful, lambda functions should be used judiciously to maintain code readability and clarity."
   ]
  },
  {
   "cell_type": "markdown",
   "id": "aed45d94-ae30-4eaf-8d38-a33a1730a3c0",
   "metadata": {},
   "source": [
    "\\[<< [DRY and Code Reusability](./06_DRY_and_code_reusability.ipynb) | [Index](./00_index.ipynb) | [Duck Typing and Goose Typing](./08_duck_typing_and_goose_typing.ipynb) >>\\]"
   ]
  }
 ],
 "metadata": {
  "kernelspec": {
   "display_name": "Python 3 (ipykernel)",
   "language": "python",
   "name": "python3"
  },
  "language_info": {
   "codemirror_mode": {
    "name": "ipython",
    "version": 3
   },
   "file_extension": ".py",
   "mimetype": "text/x-python",
   "name": "python",
   "nbconvert_exporter": "python",
   "pygments_lexer": "ipython3",
   "version": "3.8.10"
  }
 },
 "nbformat": 4,
 "nbformat_minor": 5
}
