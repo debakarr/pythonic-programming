{
 "cells": [
  {
   "cell_type": "markdown",
   "id": "e1d08b98-b5af-4675-af18-051db0ec738f",
   "metadata": {
    "slideshow": {
     "slide_type": "slide"
    },
    "tags": []
   },
   "source": [
    "\\[<< [Pythonic Thinking and PEP8](./01_pythonic_thinking_and_pep8.ipynb) | [Index](./00_index.ipynb) | [Truth Value Testing](./03_truth_value_testing.ipynb) >>\\]"
   ]
  },
  {
   "cell_type": "markdown",
   "id": "50baa48b-7a86-4177-bdca-79bfba9cf3a5",
   "metadata": {
    "slideshow": {
     "slide_type": "slide"
    },
    "tags": []
   },
   "source": [
    "## String Formatting and Docstrings"
   ]
  },
  {
   "cell_type": "markdown",
   "id": "cd8d51a9-6bcd-4748-995c-3f57dd62a745",
   "metadata": {
    "slideshow": {
     "slide_type": "subslide"
    },
    "tags": []
   },
   "source": [
    "We have for a very long time printf style (`%`) and str.format, to format string in Python. Starting from Python 3.6+ ([PEP 498](https://peps.python.org/pep-0498/)), Python support `f-string`, which in my honest opinion is much more readable then the predecessors."
   ]
  },
  {
   "cell_type": "markdown",
   "id": "41f7300e-d98f-41d9-af36-69a5305ec3f4",
   "metadata": {
    "slideshow": {
     "slide_type": "subslide"
    },
    "tags": []
   },
   "source": [
    "### Positional variable"
   ]
  },
  {
   "cell_type": "code",
   "execution_count": 2,
   "id": "d2ec8d41-a287-4bb9-9474-90277f4b04f4",
   "metadata": {
    "slideshow": {
     "slide_type": "fragment"
    },
    "tags": []
   },
   "outputs": [
    {
     "name": "stdout",
     "output_type": "stream",
     "text": [
      "Hi Debakar Roy!\n",
      "Value of pi upto 2 decimal: 3.14\n",
      "Hi Debakar Roy!\n",
      "Value of pi upto 2 decimal: 3.14\n",
      "Hi Debakar Roy!\n",
      "Value of pi upto 2 decimal: 3.14\n"
     ]
    }
   ],
   "source": [
    "name = \"Debakar Roy\"\n",
    "pi = 3.14159265359\n",
    "\n",
    "# => printf style\n",
    "print(\"Hi %s!\" % name)\n",
    "print(\"Value of pi upto 2 decimal: %.2f\" % pi)\n",
    "\n",
    "# => str.format style\n",
    "print(\"Hi {}!\".format(name))\n",
    "print(\"Value of pi upto 2 decimal: {:.2f}\".format(pi))\n",
    "\n",
    "# => f-string style\n",
    "print(f\"Hi {name}!\")\n",
    "print(f\"Value of pi upto 2 decimal: {pi:.2f}\")"
   ]
  },
  {
   "cell_type": "markdown",
   "id": "09fbe020-34f7-4de2-b129-6dd4fae40aab",
   "metadata": {
    "slideshow": {
     "slide_type": "subslide"
    },
    "tags": []
   },
   "source": [
    "### Named variable"
   ]
  },
  {
   "cell_type": "code",
   "execution_count": 3,
   "id": "08f27291-5171-48ba-96fa-e93ec5546903",
   "metadata": {
    "slideshow": {
     "slide_type": "fragment"
    },
    "tags": []
   },
   "outputs": [
    {
     "name": "stdout",
     "output_type": "stream",
     "text": [
      "Hi Debakar Roy!\n",
      "Hi Debakar Roy!\n",
      "Hi Debakar Roy!\n"
     ]
    }
   ],
   "source": [
    "name = \"Debakar Roy\"\n",
    "\n",
    "# => printf style\n",
    "print(\"Hi %(name)s!\" % dict(name=name))\n",
    "\n",
    "# => str.format style\n",
    "print(\"Hi {name}!\".format(name=name))\n",
    "\n",
    "# => f-string style\n",
    "print(f\"Hi {name}!\")"
   ]
  },
  {
   "cell_type": "markdown",
   "id": "4f2c7dfe-1279-44e9-9407-8fbf2f438f3e",
   "metadata": {
    "slideshow": {
     "slide_type": "subslide"
    },
    "tags": []
   },
   "source": [
    "### Arbitrary expression using f-string"
   ]
  },
  {
   "cell_type": "code",
   "execution_count": 2,
   "id": "b052e178-b054-432d-a222-f251835323f0",
   "metadata": {
    "slideshow": {
     "slide_type": "fragment"
    },
    "tags": []
   },
   "outputs": [
    {
     "name": "stdout",
     "output_type": "stream",
     "text": [
      "The sum of 5 and 10 is 15.\n",
      "HELLO there!\n"
     ]
    }
   ],
   "source": [
    "# Performing arithmetic within an f-string\n",
    "x = 5\n",
    "y = 10\n",
    "print(f\"The sum of {x} and {y} is {x + y}.\")\n",
    "\n",
    "# Embedding method calls within an f-string\n",
    "greeting = \"Hello\"\n",
    "print(f\"{greeting.upper()} there!\")"
   ]
  },
  {
   "cell_type": "markdown",
   "id": "34440c91-5142-4147-86c1-f4a8aadf8f81",
   "metadata": {},
   "source": [
    "### Reversing a string in python"
   ]
  },
  {
   "cell_type": "code",
   "execution_count": null,
   "id": "55cfba7c-2760-4f2d-a912-465a06ffdab7",
   "metadata": {},
   "outputs": [],
   "source": []
  },
  {
   "cell_type": "markdown",
   "id": "7a786c0f-9c29-4642-913c-7f42b271d8cc",
   "metadata": {},
   "source": [
    "\\[<< [Pythonic Thinking and PEP8](./01_pythonic_thinking_and_pep8.ipynb) | [Index](./00_index.ipynb) | [Truth Value Testing](./03_truth_value_testing.ipynb) >>\\]"
   ]
  }
 ],
 "metadata": {
  "kernelspec": {
   "display_name": "Python 3 (ipykernel)",
   "language": "python",
   "name": "python3"
  },
  "language_info": {
   "codemirror_mode": {
    "name": "ipython",
    "version": 3
   },
   "file_extension": ".py",
   "mimetype": "text/x-python",
   "name": "python",
   "nbconvert_exporter": "python",
   "pygments_lexer": "ipython3",
   "version": "3.8.10"
  }
 },
 "nbformat": 4,
 "nbformat_minor": 5
}
