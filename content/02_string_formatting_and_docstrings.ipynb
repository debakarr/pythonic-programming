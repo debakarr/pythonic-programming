{
 "cells": [
  {
   "cell_type": "markdown",
   "id": "e1d08b98-b5af-4675-af18-051db0ec738f",
   "metadata": {
    "slideshow": {
     "slide_type": "slide"
    },
    "tags": []
   },
   "source": [
    "\\[<< [Pythonic Thinking and PEP8](./01_pythonic_thinking_and_pep8.ipynb) | [Index](./00_index.ipynb) | [Truth Value Testing](./03_truth_value_testing.ipynb) >>\\]"
   ]
  },
  {
   "cell_type": "markdown",
   "id": "50baa48b-7a86-4177-bdca-79bfba9cf3a5",
   "metadata": {
    "slideshow": {
     "slide_type": "slide"
    },
    "tags": []
   },
   "source": [
    "## String Formatting and Docstrings"
   ]
  },
  {
   "cell_type": "markdown",
   "id": "cd8d51a9-6bcd-4748-995c-3f57dd62a745",
   "metadata": {
    "slideshow": {
     "slide_type": "subslide"
    },
    "tags": []
   },
   "source": [
    "We have for a very long time printf style (`%`) and str.format, to format string in Python. Starting from Python 3.6+ ([PEP 498](https://peps.python.org/pep-0498/)), Python support `f-string`, which in my honest opinion is much more readable then the predecessors."
   ]
  },
  {
   "cell_type": "markdown",
   "id": "7fd80492-a136-4781-8539-8c3e36023e39",
   "metadata": {},
   "source": [
    "[💡 Good Cheat Sheet to refer for formating](https://gto76.github.io/python-cheatsheet/#format)"
   ]
  },
  {
   "cell_type": "markdown",
   "id": "41f7300e-d98f-41d9-af36-69a5305ec3f4",
   "metadata": {
    "slideshow": {
     "slide_type": "subslide"
    },
    "tags": []
   },
   "source": [
    "### Positional variable"
   ]
  },
  {
   "cell_type": "code",
   "execution_count": 1,
   "id": "d2ec8d41-a287-4bb9-9474-90277f4b04f4",
   "metadata": {
    "slideshow": {
     "slide_type": "fragment"
    },
    "tags": []
   },
   "outputs": [
    {
     "name": "stdout",
     "output_type": "stream",
     "text": [
      "Hi Debakar Roy!\n",
      "Value of pi upto 2 decimal: 3.14\n",
      "Hi Debakar Roy!\n",
      "Value of pi upto 2 decimal: 3.14\n",
      "Hi Debakar Roy!\n",
      "Value of pi upto 2 decimal: 3.14\n"
     ]
    }
   ],
   "source": [
    "name = \"Debakar Roy\"\n",
    "pi = 3.14159265359\n",
    "\n",
    "# => printf style\n",
    "print(\"Hi %s!\" % name)\n",
    "print(\"Value of pi upto 2 decimal: %.2f\" % pi)\n",
    "\n",
    "# => str.format style\n",
    "print(\"Hi {}!\".format(name))\n",
    "print(\"Value of pi upto 2 decimal: {:.2f}\".format(pi))\n",
    "\n",
    "# => f-string style\n",
    "print(f\"Hi {name}!\")\n",
    "print(f\"Value of pi upto 2 decimal: {pi:.2f}\")"
   ]
  },
  {
   "cell_type": "markdown",
   "id": "09fbe020-34f7-4de2-b129-6dd4fae40aab",
   "metadata": {
    "slideshow": {
     "slide_type": "subslide"
    },
    "tags": []
   },
   "source": [
    "### Named variable"
   ]
  },
  {
   "cell_type": "code",
   "execution_count": 2,
   "id": "08f27291-5171-48ba-96fa-e93ec5546903",
   "metadata": {
    "slideshow": {
     "slide_type": "fragment"
    },
    "tags": []
   },
   "outputs": [
    {
     "name": "stdout",
     "output_type": "stream",
     "text": [
      "Hi Debakar Roy!\n",
      "Hi Debakar Roy!\n",
      "Hi Debakar Roy!\n"
     ]
    }
   ],
   "source": [
    "name = \"Debakar Roy\"\n",
    "\n",
    "# => printf style\n",
    "print(\"Hi %(name)s!\" % dict(name=name))\n",
    "\n",
    "# => str.format style\n",
    "print(\"Hi {name}!\".format(name=name))\n",
    "\n",
    "# => f-string style\n",
    "print(f\"Hi {name}!\")"
   ]
  },
  {
   "cell_type": "markdown",
   "id": "4f2c7dfe-1279-44e9-9407-8fbf2f438f3e",
   "metadata": {
    "slideshow": {
     "slide_type": "subslide"
    },
    "tags": []
   },
   "source": [
    "### Arbitrary expression using f-string"
   ]
  },
  {
   "cell_type": "code",
   "execution_count": 1,
   "id": "b052e178-b054-432d-a222-f251835323f0",
   "metadata": {
    "slideshow": {
     "slide_type": "fragment"
    },
    "tags": []
   },
   "outputs": [
    {
     "name": "stdout",
     "output_type": "stream",
     "text": [
      "The sum of 5 and 10 is 15.\n",
      "HELLO there!\n"
     ]
    }
   ],
   "source": [
    "# Performing arithmetic within an f-string\n",
    "x = 5\n",
    "y = 10\n",
    "print(f\"The sum of {x} and {y} is {x + y}.\")\n",
    "\n",
    "# Embedding method calls within an f-string\n",
    "greeting = \"Hello\"\n",
    "print(f\"{greeting.upper()} there!\")"
   ]
  },
  {
   "cell_type": "markdown",
   "id": "e5f3b7b8-2933-435b-b17d-98407a723916",
   "metadata": {},
   "source": [
    "## Docstrings\n",
    "\n",
    "Docstrings or Documentation Strings in Python are strings that are written as the first statement in a module, function, class, or method definition. These strings are used to document the functionality of an object.\n",
    "\n",
    "A docstring is a string literal that occurs as the first statement in a module, function, class, or method definition. Such a docstring becomes the `__doc__` special attribute of that object.\n",
    "\n",
    "Here's an example of how to use docstrings:"
   ]
  },
  {
   "cell_type": "code",
   "execution_count": 2,
   "id": "19bb9fd8-4163-40da-9fae-d9182fab3cb8",
   "metadata": {},
   "outputs": [
    {
     "name": "stdout",
     "output_type": "stream",
     "text": [
      "Help on function add_numbers in module __main__:\n",
      "\n",
      "add_numbers(x, y)\n",
      "    This function adds two numbers.\n",
      "    \n",
      "    :param x: The first number\n",
      "    :type x: int\n",
      "    :param y: The second number\n",
      "    :type y: int\n",
      "    :return: The sum of x and y\n",
      "    :rtype: int\n",
      "\n"
     ]
    }
   ],
   "source": [
    "def add_numbers(x, y):\n",
    "    \"\"\"\n",
    "    This function adds two numbers.\n",
    "\n",
    "    :param x: The first number\n",
    "    :type x: int\n",
    "    :param y: The second number\n",
    "    :type y: int\n",
    "    :return: The sum of x and y\n",
    "    :rtype: int\n",
    "    \"\"\"\n",
    "    return x + y\n",
    "\n",
    "help(add_numbers)"
   ]
  },
  {
   "cell_type": "markdown",
   "id": "333dc14c-cf7a-4a83-9846-d396689f5695",
   "metadata": {},
   "source": [
    "The `help()` function in Python is used to display the documentation of modules, functions, classes, keywords etc. This function will be very helpful while you are learning new or exploring existing modules in Python.\n",
    "\n",
    "Sphinx style docstrings are particularly useful because they support a variety of rich syntax and are well-suited for generating documentation using Sphinx, a Python documentation generator."
   ]
  },
  {
   "cell_type": "code",
   "execution_count": 3,
   "id": "cc09b873-1c16-49b0-a0c4-7703ecab1f6f",
   "metadata": {},
   "outputs": [
    {
     "name": "stdout",
     "output_type": "stream",
     "text": [
      "Help on function add_numbers in module __main__:\n",
      "\n",
      "add_numbers(x: int, y: int) -> int\n",
      "    This function adds two numbers.\n",
      "    \n",
      "    :param x: The first number\n",
      "    :param y: The second number\n",
      "    :return: The sum of x and y\n",
      "\n"
     ]
    }
   ],
   "source": [
    "def add_numbers(x: int, y: int) -> int:\n",
    "    \"\"\"\n",
    "    This function adds two numbers.\n",
    "\n",
    "    :param x: The first number\n",
    "    :param y: The second number\n",
    "    :return: The sum of x and y\n",
    "    \"\"\"\n",
    "    return x + y\n",
    "\n",
    "help(add_numbers)"
   ]
  },
  {
   "cell_type": "markdown",
   "id": "7a786c0f-9c29-4642-913c-7f42b271d8cc",
   "metadata": {},
   "source": [
    "\\[<< [Pythonic Thinking and PEP8](./01_pythonic_thinking_and_pep8.ipynb) | [Index](./00_index.ipynb) | [Truth Value Testing](./03_truth_value_testing.ipynb) >>\\]"
   ]
  }
 ],
 "metadata": {
  "kernelspec": {
   "display_name": "Python 3 (ipykernel)",
   "language": "python",
   "name": "python3"
  },
  "language_info": {
   "codemirror_mode": {
    "name": "ipython",
    "version": 3
   },
   "file_extension": ".py",
   "mimetype": "text/x-python",
   "name": "python",
   "nbconvert_exporter": "python",
   "pygments_lexer": "ipython3",
   "version": "3.8.10"
  }
 },
 "nbformat": 4,
 "nbformat_minor": 5
}
