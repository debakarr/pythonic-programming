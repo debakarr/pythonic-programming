{
 "cells": [
  {
   "cell_type": "markdown",
   "id": "a02fac09-734a-4f08-8046-6989613d0fda",
   "metadata": {},
   "source": [
    "## Duck Typing, Goose Typing, Static Typing and Static duck typing"
   ]
  },
  {
   "cell_type": "markdown",
   "id": "2382c875-2a3e-4031-af76-6d849e2747cd",
   "metadata": {},
   "source": [
    "There are 4 ways to define user intefaces in Python\n",
    "\n",
    "![](./static/flpy_1301.png)\n",
    "\n",
    "- Duck Typing (oldest one)\n",
    "- Goose Typing using abstract base classes (ABCs) (Python 2.6+)\n",
    "- Static Typing ([PEP 484](https://peps.python.org/pep-0484/) - Python 3.5+)\n",
    "- Static Duck Typing by subclasses of typing.Protocol (Python 3.8+)"
   ]
  },
  {
   "cell_type": "markdown",
   "id": "1072d79c-ccf6-4d76-ba37-8d84c1c7ef46",
   "metadata": {},
   "source": [
    "### Duck Typing"
   ]
  },
  {
   "cell_type": "code",
   "execution_count": 1,
   "id": "13461bea-dc53-4a4a-8ee4-8f85d828fd42",
   "metadata": {},
   "outputs": [
    {
     "name": "stdout",
     "output_type": "stream",
     "text": [
      "len(numbers) = 5\n",
      "numbers[0] = 1\n",
      "numbers[-2] = 4\n",
      "numbers[1:4] = [2, 3, 4]\n",
      "3 in numbers = True\n",
      "\n",
      "1|2|3|4|5|"
     ]
    }
   ],
   "source": [
    "numbers = list(range(1, 6))\n",
    "\n",
    "# Checking length\n",
    "print(f\"{len(numbers) = }\")\n",
    "\n",
    "# Indexing\n",
    "print(f\"{numbers[0] = }\")\n",
    "print(f\"{numbers[-2] = }\")\n",
    "\n",
    "# Slicing\n",
    "print(f\"{numbers[1:4] = }\")\n",
    "\n",
    "# Membership testing\n",
    "print(f\"{3 in numbers = }\")\n",
    "print()\n",
    "\n",
    "# Looping\n",
    "for number in numbers:\n",
    "    print(number, end=\"|\")"
   ]
  },
  {
   "cell_type": "code",
   "execution_count": 2,
   "id": "42d7114a-51aa-49b0-82a2-106d1bc132b7",
   "metadata": {},
   "outputs": [],
   "source": [
    "# Custom class sequence using magic methods (a.k.a double-underscore method or dunder method)\n",
    "# https://docs.python.org/3/glossary.html#term-sequence\n",
    "class HalfNumbers:\n",
    "    def __init__(self, start, stop):\n",
    "        self.start = start\n",
    "        self.stop = stop\n",
    "        self.numbers = list(range(self.start, self.stop))\n",
    "        \n",
    "    def __len__(self):\n",
    "        return len(self.numbers)\n",
    "    \n",
    "    def __getitem__(self, index):\n",
    "        if isinstance(index, slice):\n",
    "            return [number / 2 for number in self.numbers[index]]\n",
    "        else:\n",
    "            return self.numbers[index] / 2"
   ]
  },
  {
   "cell_type": "code",
   "execution_count": 3,
   "id": "432d1436-982f-4e9b-9cd2-4cd408fca4b8",
   "metadata": {},
   "outputs": [
    {
     "name": "stdout",
     "output_type": "stream",
     "text": [
      "len(half_numbers) = 5\n",
      "half_numbers[0] = 0.5\n",
      "half_numbers[-2] = 2.0\n",
      "half_numbers[1:4] = [1.0, 1.5, 2.0]\n",
      "1.5 in half_numbers = True\n",
      "\n",
      "0.5|1.0|1.5|2.0|2.5|"
     ]
    }
   ],
   "source": [
    "half_numbers = HalfNumbers(1, 6)\n",
    "\n",
    "# Checking length\n",
    "print(f\"{len(half_numbers) = }\")\n",
    "\n",
    "# Indexing\n",
    "print(f\"{half_numbers[0] = }\")\n",
    "print(f\"{half_numbers[-2] = }\")\n",
    "\n",
    "# Slicing\n",
    "print(f\"{half_numbers[1:4] = }\")\n",
    "\n",
    "# Membership testing\n",
    "print(f\"{1.5 in half_numbers = }\")\n",
    "print()\n",
    "\n",
    "# Looping\n",
    "for half_number in half_numbers:\n",
    "    print(half_number, end=\"|\")"
   ]
  },
  {
   "cell_type": "markdown",
   "id": "0a5ec7ac-3517-4916-8800-e00fad75d14d",
   "metadata": {},
   "source": [
    "### Goose Typing and ABCs (Abstract base classes)\n",
    "\n",
    "![](./static/flpy_1304.png)"
   ]
  },
  {
   "cell_type": "code",
   "execution_count": 4,
   "id": "57a38568-12f6-4664-a425-6c15d6106c0e",
   "metadata": {
    "tags": [
     "raises-exception"
    ]
   },
   "outputs": [
    {
     "ename": "TypeError",
     "evalue": "Can't instantiate abstract class InvalidSizedClass with abstract methods __len__",
     "output_type": "error",
     "traceback": [
      "\u001b[1;31m---------------------------------------------------------------------------\u001b[0m",
      "\u001b[1;31mTypeError\u001b[0m                                 Traceback (most recent call last)",
      "Cell \u001b[1;32mIn[4], line 7\u001b[0m\n\u001b[0;32m      4\u001b[0m     \u001b[38;5;28;01mdef\u001b[39;00m \u001b[38;5;21m__init__\u001b[39m(\u001b[38;5;28mself\u001b[39m):\n\u001b[0;32m      5\u001b[0m         \u001b[38;5;28mprint\u001b[39m(\u001b[38;5;124m'\u001b[39m\u001b[38;5;124minitiating\u001b[39m\u001b[38;5;124m'\u001b[39m)\n\u001b[1;32m----> 7\u001b[0m invalid_sized \u001b[38;5;241m=\u001b[39m \u001b[43mInvalidSizedClass\u001b[49m\u001b[43m(\u001b[49m\u001b[43m)\u001b[49m\n",
      "\u001b[1;31mTypeError\u001b[0m: Can't instantiate abstract class InvalidSizedClass with abstract methods __len__"
     ]
    }
   ],
   "source": [
    "from collections.abc import Sized\n",
    "\n",
    "class InvalidSizedClass(Sized):\n",
    "    def __init__(self):\n",
    "        print('initiating')\n",
    "        \n",
    "invalid_sized = InvalidSizedClass()"
   ]
  },
  {
   "cell_type": "code",
   "execution_count": 5,
   "id": "98d9b429-8d70-44e5-8d02-028f47d1fa8e",
   "metadata": {},
   "outputs": [
    {
     "name": "stdout",
     "output_type": "stream",
     "text": [
      "len(valid_sized) = 3\n",
      "isinstance(valid_sized, Sized) = True\n"
     ]
    }
   ],
   "source": [
    "class ValidSizedClass(Sized):\n",
    "    def __len__(self):\n",
    "        return 3\n",
    "\n",
    "valid_sized = ValidSizedClass()\n",
    "print(f\"{len(valid_sized) = }\")\n",
    "print(f\"{isinstance(valid_sized, Sized) = }\")"
   ]
  },
  {
   "cell_type": "markdown",
   "id": "78935adc-0e0a-4588-b1bf-7cd5b8153412",
   "metadata": {},
   "source": [
    "### Static Typing"
   ]
  },
  {
   "cell_type": "code",
   "execution_count": 6,
   "id": "300bc99f-a8fa-4595-9a0b-adf540faac04",
   "metadata": {},
   "outputs": [],
   "source": [
    "%load_ext save_and_exec_magic"
   ]
  },
  {
   "cell_type": "code",
   "execution_count": 7,
   "id": "d2bd4f91-86a3-4db5-badb-128f3d24b55b",
   "metadata": {},
   "outputs": [
    {
     "data": {
      "text/html": [
       "<pre>Success: no issues found in 1 source file\n",
       "</pre>"
      ],
      "text/plain": [
       "<IPython.core.display.HTML object>"
      ]
     },
     "metadata": {},
     "output_type": "display_data"
    }
   ],
   "source": [
    "%%save_and_run_magic mypy\n",
    "def scale(scalar, vector):\n",
    "    return [scalar * num for num in vector]\n",
    "\n",
    "\n",
    "print(f\"{scale(2, [1, 2, 3, 4]) = }\\n\")\n",
    "print(f\"{scale(2, [1.0, 2.0, 3.0, 4.0]) = }\\n\")\n",
    "print(f\"{scale(2, [1, 2.0, 3, 4.0]) = }\\n\")\n",
    "print(f\"{scale(2, (1, 2, 3, 4)) = }\\n\")\n",
    "print(f\"{scale(2, {1:1, 2:2, 3:3, 4:4}) = }\\n\")"
   ]
  },
  {
   "cell_type": "code",
   "execution_count": 8,
   "id": "3e6e1d2b-bb36-4ac0-989d-91d925130469",
   "metadata": {},
   "outputs": [
    {
     "data": {
      "text/html": [
       "<pre>tmp.py:13: error: Argument 2 to \"scale\" has incompatible type \"Tuple[int, int, int, int]\"; expected \"List[float]\"  [arg-type]\n",
       "tmp.py:14: error: Argument 2 to \"scale\" has incompatible type \"Dict[int, int]\"; expected \"List[float]\"  [arg-type]\n",
       "Found 2 errors in 1 file (checked 1 source file)\n",
       "</pre>"
      ],
      "text/plain": [
       "<IPython.core.display.HTML object>"
      ]
     },
     "metadata": {},
     "output_type": "display_data"
    }
   ],
   "source": [
    "%%save_and_run_magic mypy\n",
    "from typing import List\n",
    "\n",
    "\n",
    "Vector = List[float]\n",
    "\n",
    "def scale(scalar: float, vector: Vector) -> Vector:\n",
    "    return [scalar * num for num in vector]\n",
    "\n",
    "\n",
    "print(f\"{scale(2, [1, 2, 3, 4]) = }\\n\")\n",
    "print(f\"{scale(2, [1.0, 2.0, 3.0, 4.0]) = }\\n\")\n",
    "print(f\"{scale(2, [1, 2.0, 3, 4.0]) = }\\n\")\n",
    "print(f\"{scale(2, (1, 2, 3, 4)) = }\\n\")\n",
    "print(f\"{scale(2, {1:1, 2:2, 3:3, 4:4}) = }\\n\")"
   ]
  },
  {
   "cell_type": "markdown",
   "id": "7010cdfb-b726-4009-9fc1-a397323b5d44",
   "metadata": {},
   "source": [
    "### Static duck typing"
   ]
  },
  {
   "cell_type": "code",
   "execution_count": 9,
   "id": "7c1e0395-95e3-44ec-b968-d676bcd0fd76",
   "metadata": {},
   "outputs": [
    {
     "data": {
      "text/html": [
       "<pre>Success: no issues found in 1 source file\n",
       "</pre>"
      ],
      "text/plain": [
       "<IPython.core.display.HTML object>"
      ]
     },
     "metadata": {},
     "output_type": "display_data"
    }
   ],
   "source": [
    "%%save_and_run_magic mypy\n",
    "from decimal import Decimal\n",
    "\n",
    "pi = Decimal(22) / Decimal(7)\n",
    "\n",
    "def double(num):\n",
    "    return num * 2\n",
    "\n",
    "print(f\"{double(4) = }\")\n",
    "print(f\"{double('D') = }\")\n",
    "print(f\"{double([1, 2, 3, 4]) = }\")\n",
    "print(f\"{double(pi) = }\")\n",
    "print(f\"{double({1:1, 2:2}) = }\")"
   ]
  },
  {
   "cell_type": "code",
   "execution_count": 10,
   "id": "a2a16b02-f603-42a1-91ef-ac792d7db669",
   "metadata": {},
   "outputs": [
    {
     "name": "stdout",
     "output_type": "stream",
     "text": [
      "'__mul__' in dir(int) = True\n",
      "'__mul__' in dir(str) = True\n",
      "'__mul__' in dir(list) = True\n",
      "'__mul__' in dir(dict) = False\n"
     ]
    }
   ],
   "source": [
    "print(f\"{'__mul__' in dir(int) = }\")\n",
    "print(f\"{'__mul__' in dir(str) = }\")\n",
    "print(f\"{'__mul__' in dir(list) = }\")\n",
    "print(f\"{'__mul__' in dir(dict) = }\")"
   ]
  },
  {
   "cell_type": "code",
   "execution_count": 11,
   "id": "4751bab5-8c73-461d-a7ef-c517da684ace",
   "metadata": {},
   "outputs": [
    {
     "data": {
      "text/html": [
       "<pre>tmp.py:13: error: Argument 1 to \"double\" has incompatible type \"Dict[int, int]\"; expected \"Union[int, str, List[int], Decimal]\"  [arg-type]\n",
       "Found 1 error in 1 file (checked 1 source file)\n",
       "</pre>"
      ],
      "text/plain": [
       "<IPython.core.display.HTML object>"
      ]
     },
     "metadata": {},
     "output_type": "display_data"
    }
   ],
   "source": [
    "%%save_and_run_magic mypy\n",
    "from decimal import Decimal\n",
    "from typing import Union, List\n",
    "\n",
    "pi = Decimal(22) / Decimal(7)\n",
    "\n",
    "def double(num: Union[int, str, List[int], Decimal]):\n",
    "    return num * 2\n",
    "\n",
    "print(f\"{double(4) = }\")\n",
    "print(f\"{double('D') = }\")\n",
    "print(f\"{double([1, 2, 3, 4]) = }\")\n",
    "print(f\"{double(pi) = }\")\n",
    "print(f\"{double({1:1, 2:2}) = }\")"
   ]
  },
  {
   "cell_type": "code",
   "execution_count": 12,
   "id": "3adffedc-b845-4e6c-8fb0-5e1821bac837",
   "metadata": {},
   "outputs": [
    {
     "name": "stdout",
     "output_type": "stream",
     "text": [
      "'__mul__' in dir(tuple) = True\n"
     ]
    }
   ],
   "source": [
    "print(f\"{'__mul__' in dir(tuple) = }\")"
   ]
  },
  {
   "cell_type": "code",
   "execution_count": 13,
   "id": "bee02f5e-757c-44a7-9dd8-158c9cc42c7e",
   "metadata": {
    "tags": [
     "raises-exception"
    ]
   },
   "outputs": [
    {
     "data": {
      "text/html": [
       "<pre>tmp.py:21: error: Value of type variable \"RT\" of \"double\" cannot be \"Dict[int, int]\"  [type-var]\n",
       "Found 1 error in 1 file (checked 1 source file)\n",
       "</pre>"
      ],
      "text/plain": [
       "<IPython.core.display.HTML object>"
      ]
     },
     "metadata": {},
     "output_type": "display_data"
    }
   ],
   "source": [
    "%%save_and_run_magic mypy\n",
    "from decimal import Decimal\n",
    "from typing import TypeVar, Protocol\n",
    "\n",
    "T = TypeVar('T')\n",
    "\n",
    "pi = Decimal(22) / Decimal(7)\n",
    "\n",
    "class Repeatable(Protocol):\n",
    "    def __mul__(self: T, repeat_count: int) -> T: ...\n",
    "\n",
    "RT = TypeVar('RT', bound=Repeatable)\n",
    "\n",
    "def double(x: RT) -> RT:\n",
    "    return x * 2\n",
    "\n",
    "print(f\"{double(4) = }\")\n",
    "print(f\"{double('D') = }\")\n",
    "print(f\"{double([1, 2, 3, 4]) = }\")\n",
    "print(f\"{double(pi) = }\")\n",
    "print(f\"{double((1, 2, 3)) = }\")\n",
    "print(f\"{double({1:1, 2:2}) = }\")"
   ]
  }
 ],
 "metadata": {
  "kernelspec": {
   "display_name": "Python 3 (ipykernel)",
   "language": "python",
   "name": "python3"
  },
  "language_info": {
   "codemirror_mode": {
    "name": "ipython",
    "version": 3
   },
   "file_extension": ".py",
   "mimetype": "text/x-python",
   "name": "python",
   "nbconvert_exporter": "python",
   "pygments_lexer": "ipython3",
   "version": "3.8.10"
  }
 },
 "nbformat": 4,
 "nbformat_minor": 5
}
